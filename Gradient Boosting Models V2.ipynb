{
 "cells": [
  {
   "cell_type": "code",
   "execution_count": 2,
   "metadata": {},
   "outputs": [],
   "source": [
    "import numpy as np\n",
    "import pandas as pd\n",
    "from matplotlib import pyplot as plt\n",
    "%matplotlib inline\n",
    "import seaborn as sns\n",
    "from scipy import stats\n",
    "import statsmodels.api as sm\n",
    "from sklearn.model_selection import train_test_split\n",
    "\n",
    "from sklearn.ensemble import RandomForestRegressor\n",
    "from sklearn.decomposition import PCA, SparsePCA\n",
    "\n",
    "from sklearn.model_selection import GridSearchCV\n",
    "from sklearn.pipeline import Pipeline\n",
    "\n",
    "from sklearn.datasets import make_regression\n",
    "from sklearn.model_selection import cross_val_score\n",
    "from sklearn.model_selection import RepeatedKFold\n",
    "from sklearn.ensemble import GradientBoostingRegressor\n",
    "\n",
    "from sklearn.metrics import mean_squared_error\n",
    "\n",
    "from sklearn.preprocessing import MinMaxScaler\n",
    "from sklearn.decomposition import PCA\n"
   ]
  },
  {
   "cell_type": "markdown",
   "metadata": {},
   "source": [
    "## Data preprocessing"
   ]
  },
  {
   "cell_type": "code",
   "execution_count": 3,
   "metadata": {},
   "outputs": [],
   "source": [
    "#X_new and y_new came from train.csv\n",
    "X = pd.read_csv('/Users/mercuryliu/Documents/Kaggle/ga-customer-revenue-prediction/X_v2.csv', \\\n",
    "                low_memory=False).drop(['visitHour', 'Unnamed: 0'], axis=1)\n",
    "y = pd.read_csv('/Users/mercuryliu/Documents/Kaggle/ga-customer-revenue-prediction/y_v2.csv').drop('Unnamed: 0', axis=1)\n"
   ]
  },
  {
   "cell_type": "markdown",
   "metadata": {},
   "source": [
    "### Transformation on Y"
   ]
  },
  {
   "cell_type": "code",
   "execution_count": 4,
   "metadata": {},
   "outputs": [],
   "source": [
    "#transform y to the submission form\n",
    "y_log = np.log(y + 1)"
   ]
  },
  {
   "cell_type": "code",
   "execution_count": 6,
   "metadata": {},
   "outputs": [
    {
     "data": {
      "text/plain": [
       "26"
      ]
     },
     "execution_count": 6,
     "metadata": {},
     "output_type": "execute_result"
    }
   ],
   "source": [
    "len(X.columns)"
   ]
  },
  {
   "cell_type": "markdown",
   "metadata": {},
   "source": [
    "### Test Train Data Split "
   ]
  },
  {
   "cell_type": "code",
   "execution_count": 7,
   "metadata": {},
   "outputs": [],
   "source": [
    "#did not do PCA on X bc we are going to use tree-based models\n",
    "#dataset without PCA on X\n",
    "X_train, X_test, y_train, y_test = train_test_split(X, y_log, test_size=0.3, random_state=42)"
   ]
  },
  {
   "cell_type": "code",
   "execution_count": 9,
   "metadata": {
    "scrolled": true
   },
   "outputs": [],
   "source": [
    "#remeber to reshape y to 1d array, otherwise warning message would be raised\n",
    "y_train = y_train.to_numpy().reshape(len(y_train),)\n",
    "y_test = y_test.to_numpy().reshape(len(y_test),)\n"
   ]
  },
  {
   "cell_type": "markdown",
   "metadata": {},
   "source": [
    "## Dimensionality Reduction"
   ]
  },
  {
   "cell_type": "code",
   "execution_count": 14,
   "metadata": {},
   "outputs": [
    {
     "data": {
      "text/plain": [
       "(83484, 26)"
      ]
     },
     "execution_count": 14,
     "metadata": {},
     "output_type": "execute_result"
    }
   ],
   "source": [
    "X_train.shape"
   ]
  },
  {
   "cell_type": "code",
   "execution_count": null,
   "metadata": {},
   "outputs": [],
   "source": [
    "#I was trying to use Gridsearch CV and apply it on the original dataset, but the high dimensionlaity \n",
    "#(83484, 26) makes it super expensive computationally\n",
    "#Since I am less interested in individual variables but want to build up a model(black box method\n",
    "#)I decided to reduce the dimension of the data through PCA\n",
    "#Even though I have learned some algorithms, I don't think it is wrong to apply black box method\n",
    "#I learn the most after I apply an algorithm and try to improve it\n",
    "#The goal of improving it will push me to fully understand the math behind before modifying it \n"
   ]
  },
  {
   "cell_type": "code",
   "execution_count": 15,
   "metadata": {},
   "outputs": [],
   "source": [
    "scaler = MinMaxScaler()\n",
    "X_train_s = scaler.fit_transform(X_train)\n",
    "X_test_s = scaler.fit_transform(X_test)"
   ]
  },
  {
   "cell_type": "code",
   "execution_count": 30,
   "metadata": {},
   "outputs": [],
   "source": [
    "var = []\n",
    "for i in range(5, 25, 1):\n",
    "    pca = PCA(n_components = i)\n",
    "    X_train_r = pca.fit_transform(X_train_s)\n",
    "    k = np.sum(pca.explained_variance_ratio_)\n",
    "    var.append(k)\n"
   ]
  },
  {
   "cell_type": "code",
   "execution_count": 31,
   "metadata": {},
   "outputs": [
    {
     "data": {
      "image/png": "[encoded data removed]",
      "text/plain": [
       "<Figure size 432x288 with 1 Axes>"
      ]
     },
     "metadata": {
      "needs_background": "light"
     },
     "output_type": "display_data"
    }
   ],
   "source": [
    "#Since I want a dataset that can explain at least 95% of the variance\n",
    "#set n_components = 12\n",
    "plt.plot(list(range(5, 25, 1)), var)\n",
    "plt.show()"
   ]
  },
  {
   "cell_type": "code",
   "execution_count": 32,
   "metadata": {},
   "outputs": [],
   "source": [
    "pca_train = PCA(n_components = 12)\n",
    "X_train_r = pca_train.fit_transform(X_train_s)"
   ]
  },
  {
   "cell_type": "code",
   "execution_count": 33,
   "metadata": {},
   "outputs": [],
   "source": [
    "pca_test = PCA(n_components = 12)\n",
    "X_test_r = pca_test.fit_transform(X_test_s)"
   ]
  },
  {
   "cell_type": "code",
   "execution_count": 38,
   "metadata": {},
   "outputs": [
    {
     "data": {
      "text/plain": [
       "True"
      ]
     },
     "execution_count": 38,
     "metadata": {},
     "output_type": "execute_result"
    }
   ],
   "source": [
    "#check if the expalined_variance_ratio is greater than 95%\n",
    "np.sum(pca_train.explained_variance_ratio_)> 0.95"
   ]
  },
  {
   "cell_type": "code",
   "execution_count": 39,
   "metadata": {},
   "outputs": [
    {
     "data": {
      "text/plain": [
       "True"
      ]
     },
     "execution_count": 39,
     "metadata": {},
     "output_type": "execute_result"
    }
   ],
   "source": [
    "np.sum(pca_test.explained_variance_ratio_)> 0.95"
   ]
  },
  {
   "cell_type": "markdown",
   "metadata": {},
   "source": [
    "## Model Tuning & Evaluation\n",
    "#Since in the basic model, the performance of the model using data without PCA is better\n",
    "#In the following model tuning process, all the data are without PCA\n",
    "#parameters to tune are based on: https://www.analyticsvidhya.com/blog/2016/02/complete-guide-parameter-tuning-gradient-boosting-gbm-python/"
   ]
  },
  {
   "cell_type": "code",
   "execution_count": 40,
   "metadata": {},
   "outputs": [
    {
     "data": {
      "text/plain": [
       "GridSearchCV(cv=3,\n",
       "             estimator=GradientBoostingRegressor(criterion='mse',\n",
       "                                                 learning_rate=0.05,\n",
       "                                                 max_features='sqrt',\n",
       "                                                 random_state=2),\n",
       "             param_grid={'max_depth': [5, 10, 15, 20, 25, 30, 35, 40, 45],\n",
       "                         'min_samples_leaf': [20, 40, 60, 80, 100, 120],\n",
       "                         'n_estimators': [50, 60, 70, 80, 90, 100, 110, 120,\n",
       "                                          130, 140]},\n",
       "             scoring='neg_mean_squared_error')"
      ]
     },
     "execution_count": 40,
     "metadata": {},
     "output_type": "execute_result"
    }
   ],
   "source": [
    "#This cell took about 14h to run\n",
    "parameters = {'n_estimators': list(range(50, 150, 10)), \\\n",
    "              'max_depth': list(range(5, 50, 5)),\\\n",
    "             'min_samples_leaf': list(range(20, 140, 20))}\n",
    "model = GradientBoostingRegressor(loss='ls', criterion='mse', max_features='sqrt',\\\n",
    "                                  random_state= 2, learning_rate=0.05)\n",
    "md = GridSearchCV(model, parameters, cv=3, scoring='neg_mean_squared_error')\n",
    "md.fit(X_train_r, y_train)\n"
   ]
  },
  {
   "cell_type": "code",
   "execution_count": 42,
   "metadata": {},
   "outputs": [
    {
     "data": {
      "text/plain": [
       "{'max_depth': 20, 'min_samples_leaf': 20, 'n_estimators': 70}"
      ]
     },
     "execution_count": 42,
     "metadata": {},
     "output_type": "execute_result"
    }
   ],
   "source": [
    "md.best_params_"
   ]
  },
  {
   "cell_type": "code",
   "execution_count": null,
   "metadata": {},
   "outputs": [],
   "source": [
    "##Model Comparison "
   ]
  },
  {
   "cell_type": "code",
   "execution_count": 43,
   "metadata": {},
   "outputs": [],
   "source": [
    "m_best = GradientBoostingRegressor(n_estimators=70, max_depth=20, min_samples_leaf=20,\\\n",
    "                                  loss='ls', learning_rate=0.05, criterion='mse',\\\n",
    "                                  max_features='sqrt', random_state=2)"
   ]
  },
  {
   "cell_type": "code",
   "execution_count": 44,
   "metadata": {},
   "outputs": [],
   "source": [
    "#part1: no cv\n",
    "m_best.fit(X_train_r, y_train) #fit model\n",
    "#training error\n",
    "p1_train = m_best.predict(X_train_r)\n",
    "train_e = mean_squared_error(y_train, p1_train) \n",
    "#testing error\n",
    "p2_test = m_best.predict(X_test_r) \n",
    "test_e = mean_squared_error(y_test, p2_test)     \n"
   ]
  },
  {
   "cell_type": "code",
   "execution_count": 45,
   "metadata": {},
   "outputs": [],
   "source": [
    "#part2: same model & parameters, but do 3-fold cv, get average MSE\n",
    "cv_e = - (np.mean(cross_val_score(m_best, X_train_r, y_train, \\\n",
    "                                    cv=3, scoring ='neg_mean_squared_error')))\n"
   ]
  },
  {
   "cell_type": "code",
   "execution_count": 46,
   "metadata": {},
   "outputs": [
    {
     "data": {
      "image/png": "[encoded data removed]",
      "text/plain": [
       "<Figure size 432x288 with 1 Axes>"
      ]
     },
     "metadata": {
      "needs_background": "light"
     },
     "output_type": "display_data"
    }
   ],
   "source": [
    "e_combo = [train_e, test_e, cv_e]\n",
    "name = ['training error', 'testing error', 'cv score']\n",
    "c = ['lightsteelblue', 'paleturquoise', 'lemonchiffon']\n",
    "plt.bar(name, e_combo, color = c)\n",
    "plt.show()"
   ]
  },
  {
   "cell_type": "code",
   "execution_count": null,
   "metadata": {},
   "outputs": [],
   "source": []
  },
  {
   "cell_type": "code",
   "execution_count": null,
   "metadata": {},
   "outputs": [],
   "source": []
  },
  {
   "cell_type": "code",
   "execution_count": null,
   "metadata": {},
   "outputs": [],
   "source": []
  }
 ],
 "metadata": {
  "kernelspec": {
   "display_name": "Python 3",
   "language": "python",
   "name": "python3"
  },
  "language_info": {
   "codemirror_mode": {
    "name": "ipython",
    "version": 3
   },
   "file_extension": ".py",
   "mimetype": "text/x-python",
   "name": "python",
   "nbconvert_exporter": "python",
   "pygments_lexer": "ipython3",
   "version": "3.8.5"
  }
 },
 "nbformat": 4,
 "nbformat_minor": 4
}
