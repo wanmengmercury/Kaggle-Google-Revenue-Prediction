{
 "cells": [
  {
   "cell_type": "code",
   "execution_count": 1,
   "metadata": {},
   "outputs": [],
   "source": [
    "import numpy as np\n",
    "import pandas as pd\n",
    "from matplotlib import pyplot as plt\n",
    "%matplotlib inline\n",
    "import seaborn as sns\n",
    "from scipy import stats\n",
    "import statsmodels.api as sm\n",
    "from sklearn.model_selection import train_test_split\n",
    "\n",
    "from sklearn.ensemble import RandomForestRegressor\n",
    "from sklearn.decomposition import PCA, SparsePCA\n",
    "\n",
    "from sklearn.model_selection import GridSearchCV\n",
    "from sklearn.pipeline import Pipeline\n",
    "\n",
    "from sklearn.datasets import make_regression\n",
    "from sklearn.model_selection import cross_val_score\n",
    "from sklearn.model_selection import RepeatedKFold\n",
    "from sklearn.ensemble import GradientBoostingRegressor\n",
    "\n",
    "from sklearn.metrics import mean_squared_error\n",
    "from sklearn.preprocessing import MinMaxScaler\n",
    "from sklearn.decomposition import PCA\n",
    "from sklearn.preprocessing import LabelEncoder\n"
   ]
  },
  {
   "cell_type": "markdown",
   "metadata": {},
   "source": [
    "## Test Data Cleaning"
   ]
  },
  {
   "cell_type": "code",
   "execution_count": 3,
   "metadata": {},
   "outputs": [],
   "source": [
    "#test_clean.csv came from test.csv\n",
    "test = pd.read_csv('/Users/mercuryliu/Documents/Kaggle/ga-customer-revenue-prediction/test_v2_withid.csv', low_memory=False).drop(['Unnamed: 0'], axis=1)"
   ]
  },
  {
   "cell_type": "code",
   "execution_count": null,
   "metadata": {},
   "outputs": [],
   "source": []
  },
  {
   "cell_type": "code",
   "execution_count": 4,
   "metadata": {},
   "outputs": [
    {
     "name": "stdout",
     "output_type": "stream",
     "text": [
      "<class 'pandas.core.frame.DataFrame'>\n",
      "RangeIndex: 401589 entries, 0 to 401588\n",
      "Data columns (total 27 columns):\n",
      " #   Column                                    Non-Null Count   Dtype  \n",
      "---  ------                                    --------------   -----  \n",
      " 0   visitNumber                               401589 non-null  int64  \n",
      " 1   totals.visits                             401589 non-null  int64  \n",
      " 2   totals.hits                               401589 non-null  int64  \n",
      " 3   totals.pageviews                          401488 non-null  float64\n",
      " 4   totals.timeOnSite                         217903 non-null  float64\n",
      " 5   totals.newVisits                          286065 non-null  float64\n",
      " 6   totals.transactions                       6305 non-null    float64\n",
      " 7   totals.totalTransactionRevenue            4594 non-null    float64\n",
      " 8   totals.bounces                            182678 non-null  float64\n",
      " 9   channelGrouping                           401589 non-null  object \n",
      " 10  socialEngagementType                      401589 non-null  object \n",
      " 11  device.browser                            401589 non-null  object \n",
      " 12  device.operatingSystem                    401589 non-null  object \n",
      " 13  device.isMobile                           401589 non-null  bool   \n",
      " 14  device.deviceCategory                     401589 non-null  object \n",
      " 15  geoNetwork.continent                      401589 non-null  object \n",
      " 16  geoNetwork.subContinent                   401589 non-null  object \n",
      " 17  geoNetwork.country                        401589 non-null  object \n",
      " 18  geoNetwork.networkDomain                  401589 non-null  object \n",
      " 19  trafficSource.campaign                    401589 non-null  object \n",
      " 20  trafficSource.source                      401589 non-null  object \n",
      " 21  trafficSource.medium                      401589 non-null  object \n",
      " 22  trafficSource.keyword                     361363 non-null  object \n",
      " 23  trafficSource.adwordsClickInfo.isVideoAd  10605 non-null   object \n",
      " 24  trafficSource.referralPath                401589 non-null  object \n",
      " 25  trafficSource.isTrueDirect                148409 non-null  object \n",
      " 26  fullVisitorId                             401589 non-null  object \n",
      "dtypes: bool(1), float64(6), int64(3), object(17)\n",
      "memory usage: 80.0+ MB\n"
     ]
    }
   ],
   "source": [
    "test.info()"
   ]
  },
  {
   "cell_type": "code",
   "execution_count": null,
   "metadata": {},
   "outputs": [],
   "source": []
  },
  {
   "cell_type": "code",
   "execution_count": 5,
   "metadata": {},
   "outputs": [],
   "source": [
    "ID = test['fullVisitorId']"
   ]
  },
  {
   "cell_type": "code",
   "execution_count": null,
   "metadata": {},
   "outputs": [],
   "source": []
  },
  {
   "cell_type": "code",
   "execution_count": 6,
   "metadata": {},
   "outputs": [],
   "source": [
    "test_x = test.drop(['fullVisitorId'], axis=1)"
   ]
  },
  {
   "cell_type": "code",
   "execution_count": null,
   "metadata": {},
   "outputs": [],
   "source": []
  },
  {
   "cell_type": "code",
   "execution_count": 7,
   "metadata": {},
   "outputs": [
    {
     "data": {
      "text/plain": [
       "(401589, 26)"
      ]
     },
     "execution_count": 7,
     "metadata": {},
     "output_type": "execute_result"
    }
   ],
   "source": [
    "test_x.shape"
   ]
  },
  {
   "cell_type": "code",
   "execution_count": null,
   "metadata": {},
   "outputs": [],
   "source": []
  },
  {
   "cell_type": "code",
   "execution_count": 8,
   "metadata": {},
   "outputs": [
    {
     "data": {
      "text/html": [
       "<div>\n",
       "<style scoped>\n",
       "    .dataframe tbody tr th:only-of-type {\n",
       "        vertical-align: middle;\n",
       "    }\n",
       "\n",
       "    .dataframe tbody tr th {\n",
       "        vertical-align: top;\n",
       "    }\n",
       "\n",
       "    .dataframe thead th {\n",
       "        text-align: right;\n",
       "    }\n",
       "</style>\n",
       "<table border=\"1\" class=\"dataframe\">\n",
       "  <thead>\n",
       "    <tr style=\"text-align: right;\">\n",
       "      <th></th>\n",
       "      <th>visitNumber</th>\n",
       "      <th>totals.visits</th>\n",
       "      <th>totals.hits</th>\n",
       "      <th>totals.pageviews</th>\n",
       "      <th>totals.timeOnSite</th>\n",
       "      <th>totals.newVisits</th>\n",
       "      <th>totals.transactions</th>\n",
       "      <th>totals.totalTransactionRevenue</th>\n",
       "      <th>totals.bounces</th>\n",
       "      <th>channelGrouping</th>\n",
       "      <th>...</th>\n",
       "      <th>geoNetwork.subContinent</th>\n",
       "      <th>geoNetwork.country</th>\n",
       "      <th>geoNetwork.networkDomain</th>\n",
       "      <th>trafficSource.campaign</th>\n",
       "      <th>trafficSource.source</th>\n",
       "      <th>trafficSource.medium</th>\n",
       "      <th>trafficSource.keyword</th>\n",
       "      <th>trafficSource.adwordsClickInfo.isVideoAd</th>\n",
       "      <th>trafficSource.referralPath</th>\n",
       "      <th>trafficSource.isTrueDirect</th>\n",
       "    </tr>\n",
       "  </thead>\n",
       "  <tbody>\n",
       "    <tr>\n",
       "      <th>0</th>\n",
       "      <td>2</td>\n",
       "      <td>1</td>\n",
       "      <td>4</td>\n",
       "      <td>3.0</td>\n",
       "      <td>973.0</td>\n",
       "      <td>NaN</td>\n",
       "      <td>NaN</td>\n",
       "      <td>NaN</td>\n",
       "      <td>NaN</td>\n",
       "      <td>Organic Search</td>\n",
       "      <td>...</td>\n",
       "      <td>Southern Asia</td>\n",
       "      <td>India</td>\n",
       "      <td>unknown.unknown</td>\n",
       "      <td>(not set)</td>\n",
       "      <td>google</td>\n",
       "      <td>organic</td>\n",
       "      <td>(not provided)</td>\n",
       "      <td>NaN</td>\n",
       "      <td>(not set)</td>\n",
       "      <td>True</td>\n",
       "    </tr>\n",
       "    <tr>\n",
       "      <th>1</th>\n",
       "      <td>166</td>\n",
       "      <td>1</td>\n",
       "      <td>4</td>\n",
       "      <td>3.0</td>\n",
       "      <td>49.0</td>\n",
       "      <td>NaN</td>\n",
       "      <td>NaN</td>\n",
       "      <td>NaN</td>\n",
       "      <td>NaN</td>\n",
       "      <td>Direct</td>\n",
       "      <td>...</td>\n",
       "      <td>Northern America</td>\n",
       "      <td>United States</td>\n",
       "      <td>(not set)</td>\n",
       "      <td>(not set)</td>\n",
       "      <td>(direct)</td>\n",
       "      <td>(none)</td>\n",
       "      <td>(not set)</td>\n",
       "      <td>NaN</td>\n",
       "      <td>(not set)</td>\n",
       "      <td>True</td>\n",
       "    </tr>\n",
       "    <tr>\n",
       "      <th>2</th>\n",
       "      <td>2</td>\n",
       "      <td>1</td>\n",
       "      <td>4</td>\n",
       "      <td>3.0</td>\n",
       "      <td>24.0</td>\n",
       "      <td>NaN</td>\n",
       "      <td>NaN</td>\n",
       "      <td>NaN</td>\n",
       "      <td>NaN</td>\n",
       "      <td>Organic Search</td>\n",
       "      <td>...</td>\n",
       "      <td>Northern America</td>\n",
       "      <td>United States</td>\n",
       "      <td>onlinecomputerworks.com</td>\n",
       "      <td>(not set)</td>\n",
       "      <td>google</td>\n",
       "      <td>organic</td>\n",
       "      <td>(not provided)</td>\n",
       "      <td>NaN</td>\n",
       "      <td>(not set)</td>\n",
       "      <td>True</td>\n",
       "    </tr>\n",
       "    <tr>\n",
       "      <th>3</th>\n",
       "      <td>4</td>\n",
       "      <td>1</td>\n",
       "      <td>5</td>\n",
       "      <td>4.0</td>\n",
       "      <td>25.0</td>\n",
       "      <td>NaN</td>\n",
       "      <td>NaN</td>\n",
       "      <td>NaN</td>\n",
       "      <td>NaN</td>\n",
       "      <td>Direct</td>\n",
       "      <td>...</td>\n",
       "      <td>Northern America</td>\n",
       "      <td>United States</td>\n",
       "      <td>(not set)</td>\n",
       "      <td>(not set)</td>\n",
       "      <td>(direct)</td>\n",
       "      <td>(none)</td>\n",
       "      <td>(not set)</td>\n",
       "      <td>NaN</td>\n",
       "      <td>(not set)</td>\n",
       "      <td>True</td>\n",
       "    </tr>\n",
       "    <tr>\n",
       "      <th>4</th>\n",
       "      <td>1</td>\n",
       "      <td>1</td>\n",
       "      <td>5</td>\n",
       "      <td>4.0</td>\n",
       "      <td>49.0</td>\n",
       "      <td>1.0</td>\n",
       "      <td>NaN</td>\n",
       "      <td>NaN</td>\n",
       "      <td>NaN</td>\n",
       "      <td>Organic Search</td>\n",
       "      <td>...</td>\n",
       "      <td>Northern America</td>\n",
       "      <td>United States</td>\n",
       "      <td>com</td>\n",
       "      <td>(not set)</td>\n",
       "      <td>google</td>\n",
       "      <td>organic</td>\n",
       "      <td>(not provided)</td>\n",
       "      <td>NaN</td>\n",
       "      <td>(not set)</td>\n",
       "      <td>NaN</td>\n",
       "    </tr>\n",
       "  </tbody>\n",
       "</table>\n",
       "<p>5 rows × 26 columns</p>\n",
       "</div>"
      ],
      "text/plain": [
       "   visitNumber  totals.visits  totals.hits  totals.pageviews  \\\n",
       "0            2              1            4               3.0   \n",
       "1          166              1            4               3.0   \n",
       "2            2              1            4               3.0   \n",
       "3            4              1            5               4.0   \n",
       "4            1              1            5               4.0   \n",
       "\n",
       "   totals.timeOnSite  totals.newVisits  totals.transactions  \\\n",
       "0              973.0               NaN                  NaN   \n",
       "1               49.0               NaN                  NaN   \n",
       "2               24.0               NaN                  NaN   \n",
       "3               25.0               NaN                  NaN   \n",
       "4               49.0               1.0                  NaN   \n",
       "\n",
       "   totals.totalTransactionRevenue  totals.bounces channelGrouping  ...  \\\n",
       "0                             NaN             NaN  Organic Search  ...   \n",
       "1                             NaN             NaN          Direct  ...   \n",
       "2                             NaN             NaN  Organic Search  ...   \n",
       "3                             NaN             NaN          Direct  ...   \n",
       "4                             NaN             NaN  Organic Search  ...   \n",
       "\n",
       "  geoNetwork.subContinent geoNetwork.country geoNetwork.networkDomain  \\\n",
       "0           Southern Asia              India          unknown.unknown   \n",
       "1        Northern America      United States                (not set)   \n",
       "2        Northern America      United States  onlinecomputerworks.com   \n",
       "3        Northern America      United States                (not set)   \n",
       "4        Northern America      United States                      com   \n",
       "\n",
       "   trafficSource.campaign trafficSource.source trafficSource.medium  \\\n",
       "0               (not set)               google              organic   \n",
       "1               (not set)             (direct)               (none)   \n",
       "2               (not set)               google              organic   \n",
       "3               (not set)             (direct)               (none)   \n",
       "4               (not set)               google              organic   \n",
       "\n",
       "  trafficSource.keyword trafficSource.adwordsClickInfo.isVideoAd  \\\n",
       "0        (not provided)                                      NaN   \n",
       "1             (not set)                                      NaN   \n",
       "2        (not provided)                                      NaN   \n",
       "3             (not set)                                      NaN   \n",
       "4        (not provided)                                      NaN   \n",
       "\n",
       "  trafficSource.referralPath trafficSource.isTrueDirect  \n",
       "0                  (not set)                       True  \n",
       "1                  (not set)                       True  \n",
       "2                  (not set)                       True  \n",
       "3                  (not set)                       True  \n",
       "4                  (not set)                        NaN  \n",
       "\n",
       "[5 rows x 26 columns]"
      ]
     },
     "execution_count": 8,
     "metadata": {},
     "output_type": "execute_result"
    }
   ],
   "source": [
    "test_x.head()"
   ]
  },
  {
   "cell_type": "code",
   "execution_count": null,
   "metadata": {},
   "outputs": [],
   "source": []
  },
  {
   "cell_type": "code",
   "execution_count": 9,
   "metadata": {},
   "outputs": [
    {
     "data": {
      "text/html": [
       "<div>\n",
       "<style scoped>\n",
       "    .dataframe tbody tr th:only-of-type {\n",
       "        vertical-align: middle;\n",
       "    }\n",
       "\n",
       "    .dataframe tbody tr th {\n",
       "        vertical-align: top;\n",
       "    }\n",
       "\n",
       "    .dataframe thead th {\n",
       "        text-align: right;\n",
       "    }\n",
       "</style>\n",
       "<table border=\"1\" class=\"dataframe\">\n",
       "  <thead>\n",
       "    <tr style=\"text-align: right;\">\n",
       "      <th></th>\n",
       "      <th>Column</th>\n",
       "      <th>Null_Count</th>\n",
       "      <th>Null_Percent</th>\n",
       "    </tr>\n",
       "  </thead>\n",
       "  <tbody>\n",
       "    <tr>\n",
       "      <th>0</th>\n",
       "      <td>totals.totalTransactionRevenue</td>\n",
       "      <td>396995</td>\n",
       "      <td>98.856044</td>\n",
       "    </tr>\n",
       "    <tr>\n",
       "      <th>1</th>\n",
       "      <td>totals.transactions</td>\n",
       "      <td>395284</td>\n",
       "      <td>98.429987</td>\n",
       "    </tr>\n",
       "    <tr>\n",
       "      <th>2</th>\n",
       "      <td>trafficSource.adwordsClickInfo.isVideoAd</td>\n",
       "      <td>390984</td>\n",
       "      <td>97.359240</td>\n",
       "    </tr>\n",
       "    <tr>\n",
       "      <th>3</th>\n",
       "      <td>trafficSource.isTrueDirect</td>\n",
       "      <td>253180</td>\n",
       "      <td>63.044556</td>\n",
       "    </tr>\n",
       "    <tr>\n",
       "      <th>4</th>\n",
       "      <td>totals.bounces</td>\n",
       "      <td>218911</td>\n",
       "      <td>54.511204</td>\n",
       "    </tr>\n",
       "    <tr>\n",
       "      <th>5</th>\n",
       "      <td>totals.timeOnSite</td>\n",
       "      <td>183686</td>\n",
       "      <td>45.739799</td>\n",
       "    </tr>\n",
       "    <tr>\n",
       "      <th>6</th>\n",
       "      <td>totals.newVisits</td>\n",
       "      <td>115524</td>\n",
       "      <td>28.766724</td>\n",
       "    </tr>\n",
       "    <tr>\n",
       "      <th>7</th>\n",
       "      <td>trafficSource.keyword</td>\n",
       "      <td>40226</td>\n",
       "      <td>10.016709</td>\n",
       "    </tr>\n",
       "    <tr>\n",
       "      <th>8</th>\n",
       "      <td>totals.pageviews</td>\n",
       "      <td>101</td>\n",
       "      <td>0.025150</td>\n",
       "    </tr>\n",
       "  </tbody>\n",
       "</table>\n",
       "</div>"
      ],
      "text/plain": [
       "                                     Column  Null_Count  Null_Percent\n",
       "0            totals.totalTransactionRevenue      396995     98.856044\n",
       "1                       totals.transactions      395284     98.429987\n",
       "2  trafficSource.adwordsClickInfo.isVideoAd      390984     97.359240\n",
       "3                trafficSource.isTrueDirect      253180     63.044556\n",
       "4                            totals.bounces      218911     54.511204\n",
       "5                         totals.timeOnSite      183686     45.739799\n",
       "6                          totals.newVisits      115524     28.766724\n",
       "7                     trafficSource.keyword       40226     10.016709\n",
       "8                          totals.pageviews         101      0.025150"
      ]
     },
     "execution_count": 9,
     "metadata": {},
     "output_type": "execute_result"
    }
   ],
   "source": [
    "#an useful function, help decide which columns to drop due to missing values\n",
    "def Null_Count(df):\n",
    "    df_null = df.isnull().sum().sort_values(ascending = False).rename('Null').reset_index()\n",
    "\n",
    "    null_count = df_null['Null']\n",
    "    null_percent = (null_count * 100) / (df.shape[0])\n",
    "\n",
    "    df_null = pd.concat([df_null['index'],null_count,null_percent], axis=1, keys=['Column','Null_Count','Null_Percent'])\n",
    "\n",
    "    return df_null[df_null['Null_Count'] != 0]\n",
    "\n",
    "Null_Count(test_x)"
   ]
  },
  {
   "cell_type": "code",
   "execution_count": null,
   "metadata": {},
   "outputs": [],
   "source": []
  },
  {
   "cell_type": "code",
   "execution_count": 10,
   "metadata": {},
   "outputs": [],
   "source": [
    "def fill_na(df):   \n",
    "    df[\"totals.totalTransactionRevenue\"].fillna(0.0, inplace=True)\n",
    "    df[\"totals.transactions\"].fillna(0.0, inplace=True)\n",
    "    df['totals.bounces'].fillna(0, inplace=True) \n",
    "    df['totals.timeOnSite'].fillna(0, inplace=True)\n",
    "    df['totals.newVisits'].fillna(0, inplace=True)\n",
    "    df['totals.pageviews'].fillna(1, inplace=True)\n",
    "\n",
    "    \n",
    "    # Changing datatypes from object to desired ones\n",
    "    df['totals.pageviews'] = df['totals.pageviews'].astype(int)\n",
    "    df['totals.newVisits'] = df['totals.newVisits'].astype(int)\n",
    "    df['totals.bounces'] = df['totals.bounces'].astype(int)\n",
    "    df[\"totals.totalTransactionRevenue\"] = df[\"totals.totalTransactionRevenue\"].astype(float)\n",
    "    df[\"totals.transactions\"] = df[\"totals.totalTransactionRevenue\"].astype(float)\n",
    "\n",
    "    \n",
    "    df['trafficSource.isTrueDirect'].fillna(False, inplace=True) \n",
    "    df['trafficSource.adwordsClickInfo.isVideoAd'].fillna(True, inplace=True)\n",
    "    df['trafficSource.keyword'].fillna('(not provided)', inplace=True) \n",
    "\n",
    "    return df\n",
    "\n",
    "test_x = fill_na(test_x)"
   ]
  },
  {
   "cell_type": "code",
   "execution_count": null,
   "metadata": {},
   "outputs": [],
   "source": []
  },
  {
   "cell_type": "code",
   "execution_count": 11,
   "metadata": {},
   "outputs": [
    {
     "name": "stdout",
     "output_type": "stream",
     "text": [
      "<class 'pandas.core.frame.DataFrame'>\n",
      "RangeIndex: 401589 entries, 0 to 401588\n",
      "Data columns (total 26 columns):\n",
      " #   Column                                    Non-Null Count   Dtype  \n",
      "---  ------                                    --------------   -----  \n",
      " 0   visitNumber                               401589 non-null  int64  \n",
      " 1   totals.visits                             401589 non-null  int64  \n",
      " 2   totals.hits                               401589 non-null  int64  \n",
      " 3   totals.pageviews                          401589 non-null  int64  \n",
      " 4   totals.timeOnSite                         401589 non-null  float64\n",
      " 5   totals.newVisits                          401589 non-null  int64  \n",
      " 6   totals.transactions                       401589 non-null  float64\n",
      " 7   totals.totalTransactionRevenue            401589 non-null  float64\n",
      " 8   totals.bounces                            401589 non-null  int64  \n",
      " 9   channelGrouping                           401589 non-null  object \n",
      " 10  socialEngagementType                      401589 non-null  object \n",
      " 11  device.browser                            401589 non-null  object \n",
      " 12  device.operatingSystem                    401589 non-null  object \n",
      " 13  device.isMobile                           401589 non-null  bool   \n",
      " 14  device.deviceCategory                     401589 non-null  object \n",
      " 15  geoNetwork.continent                      401589 non-null  object \n",
      " 16  geoNetwork.subContinent                   401589 non-null  object \n",
      " 17  geoNetwork.country                        401589 non-null  object \n",
      " 18  geoNetwork.networkDomain                  401589 non-null  object \n",
      " 19  trafficSource.campaign                    401589 non-null  object \n",
      " 20  trafficSource.source                      401589 non-null  object \n",
      " 21  trafficSource.medium                      401589 non-null  object \n",
      " 22  trafficSource.keyword                     401589 non-null  object \n",
      " 23  trafficSource.adwordsClickInfo.isVideoAd  401589 non-null  bool   \n",
      " 24  trafficSource.referralPath                401589 non-null  object \n",
      " 25  trafficSource.isTrueDirect                401589 non-null  bool   \n",
      "dtypes: bool(3), float64(3), int64(6), object(14)\n",
      "memory usage: 71.6+ MB\n"
     ]
    }
   ],
   "source": [
    "test_x.info()"
   ]
  },
  {
   "cell_type": "code",
   "execution_count": null,
   "metadata": {},
   "outputs": [],
   "source": []
  },
  {
   "cell_type": "code",
   "execution_count": 12,
   "metadata": {},
   "outputs": [],
   "source": [
    "num_name = ['visitNumber', 'totals.visits', 'totals.hits', \\\n",
    "            'totals.pageviews', 'totals.timeOnSite', 'totals.newVisits', \\\n",
    "            'totals.transactions', 'totals.totalTransactionRevenue', 'totals.bounces']\n",
    "num_c = test_x[num_name]\n",
    "cat_c = test_x.drop(num_name, axis=1)"
   ]
  },
  {
   "cell_type": "code",
   "execution_count": null,
   "metadata": {},
   "outputs": [],
   "source": []
  },
  {
   "cell_type": "code",
   "execution_count": 13,
   "metadata": {},
   "outputs": [],
   "source": [
    "for i in range(len(cat_c.columns)):\n",
    "    cat_c.iloc[:,i] = LabelEncoder().fit_transform(cat_c.iloc[:,i])"
   ]
  },
  {
   "cell_type": "code",
   "execution_count": null,
   "metadata": {},
   "outputs": [],
   "source": []
  },
  {
   "cell_type": "code",
   "execution_count": 14,
   "metadata": {},
   "outputs": [],
   "source": [
    "X_total = pd.concat([num_c, cat_c], axis=1)"
   ]
  },
  {
   "cell_type": "code",
   "execution_count": null,
   "metadata": {},
   "outputs": [],
   "source": []
  },
  {
   "cell_type": "code",
   "execution_count": 15,
   "metadata": {},
   "outputs": [],
   "source": [
    "real_x = pd.read_csv('/Users/mercuryliu/Documents/Kaggle/ga-customer-revenue-prediction/X_v2.csv', \\\n",
    "                low_memory=False).drop(['visitHour', 'Unnamed: 0'], axis=1)"
   ]
  },
  {
   "cell_type": "code",
   "execution_count": null,
   "metadata": {},
   "outputs": [],
   "source": []
  },
  {
   "cell_type": "code",
   "execution_count": 16,
   "metadata": {},
   "outputs": [
    {
     "data": {
      "text/plain": [
       "True"
      ]
     },
     "execution_count": 16,
     "metadata": {},
     "output_type": "execute_result"
    }
   ],
   "source": [
    "X_total.columns.to_list() == real_x.columns.to_list()"
   ]
  },
  {
   "cell_type": "code",
   "execution_count": null,
   "metadata": {},
   "outputs": [],
   "source": []
  },
  {
   "cell_type": "code",
   "execution_count": 17,
   "metadata": {},
   "outputs": [
    {
     "name": "stdout",
     "output_type": "stream",
     "text": [
      "<class 'pandas.core.frame.DataFrame'>\n",
      "RangeIndex: 401589 entries, 0 to 401588\n",
      "Data columns (total 26 columns):\n",
      " #   Column                                    Non-Null Count   Dtype  \n",
      "---  ------                                    --------------   -----  \n",
      " 0   visitNumber                               401589 non-null  int64  \n",
      " 1   totals.visits                             401589 non-null  int64  \n",
      " 2   totals.hits                               401589 non-null  int64  \n",
      " 3   totals.pageviews                          401589 non-null  int64  \n",
      " 4   totals.timeOnSite                         401589 non-null  float64\n",
      " 5   totals.newVisits                          401589 non-null  int64  \n",
      " 6   totals.transactions                       401589 non-null  float64\n",
      " 7   totals.totalTransactionRevenue            401589 non-null  float64\n",
      " 8   totals.bounces                            401589 non-null  int64  \n",
      " 9   channelGrouping                           401589 non-null  int64  \n",
      " 10  socialEngagementType                      401589 non-null  int64  \n",
      " 11  device.browser                            401589 non-null  int64  \n",
      " 12  device.operatingSystem                    401589 non-null  int64  \n",
      " 13  device.isMobile                           401589 non-null  int64  \n",
      " 14  device.deviceCategory                     401589 non-null  int64  \n",
      " 15  geoNetwork.continent                      401589 non-null  int64  \n",
      " 16  geoNetwork.subContinent                   401589 non-null  int64  \n",
      " 17  geoNetwork.country                        401589 non-null  int64  \n",
      " 18  geoNetwork.networkDomain                  401589 non-null  int64  \n",
      " 19  trafficSource.campaign                    401589 non-null  int64  \n",
      " 20  trafficSource.source                      401589 non-null  int64  \n",
      " 21  trafficSource.medium                      401589 non-null  int64  \n",
      " 22  trafficSource.keyword                     401589 non-null  int64  \n",
      " 23  trafficSource.adwordsClickInfo.isVideoAd  401589 non-null  int64  \n",
      " 24  trafficSource.referralPath                401589 non-null  int64  \n",
      " 25  trafficSource.isTrueDirect                401589 non-null  int64  \n",
      "dtypes: float64(3), int64(23)\n",
      "memory usage: 79.7 MB\n"
     ]
    }
   ],
   "source": [
    "X_total.info()"
   ]
  },
  {
   "cell_type": "code",
   "execution_count": null,
   "metadata": {},
   "outputs": [],
   "source": []
  },
  {
   "cell_type": "code",
   "execution_count": 18,
   "metadata": {},
   "outputs": [],
   "source": [
    "X_unique = X_total\n",
    "X_unique['fullVisitorId'] = ID"
   ]
  },
  {
   "cell_type": "code",
   "execution_count": null,
   "metadata": {},
   "outputs": [],
   "source": []
  },
  {
   "cell_type": "code",
   "execution_count": null,
   "metadata": {},
   "outputs": [],
   "source": []
  },
  {
   "cell_type": "code",
   "execution_count": 19,
   "metadata": {},
   "outputs": [],
   "source": [
    "X_unique.drop_duplicates(subset ='fullVisitorId',\n",
    "                     keep = 'first', inplace = True)\n",
    "  "
   ]
  },
  {
   "cell_type": "code",
   "execution_count": null,
   "metadata": {},
   "outputs": [],
   "source": []
  },
  {
   "cell_type": "code",
   "execution_count": 20,
   "metadata": {},
   "outputs": [],
   "source": [
    "X_noid = X_unique.drop('fullVisitorId', axis = 1)"
   ]
  },
  {
   "cell_type": "code",
   "execution_count": null,
   "metadata": {},
   "outputs": [],
   "source": []
  },
  {
   "cell_type": "code",
   "execution_count": null,
   "metadata": {},
   "outputs": [],
   "source": []
  },
  {
   "cell_type": "code",
   "execution_count": 21,
   "metadata": {},
   "outputs": [],
   "source": [
    "scaler = MinMaxScaler()\n",
    "X_s = scaler.fit_transform(X_noid)\n",
    "\n",
    "pca_n = PCA(n_components = 12)\n",
    "X_r = pca_n.fit_transform(X_s)"
   ]
  },
  {
   "cell_type": "code",
   "execution_count": null,
   "metadata": {},
   "outputs": [],
   "source": []
  },
  {
   "cell_type": "code",
   "execution_count": null,
   "metadata": {},
   "outputs": [],
   "source": []
  },
  {
   "cell_type": "code",
   "execution_count": 22,
   "metadata": {},
   "outputs": [
    {
     "data": {
      "text/plain": [
       "True"
      ]
     },
     "execution_count": 22,
     "metadata": {},
     "output_type": "execute_result"
    }
   ],
   "source": [
    "np.sum(pca_n.explained_variance_ratio_)> 0.95"
   ]
  },
  {
   "cell_type": "code",
   "execution_count": null,
   "metadata": {},
   "outputs": [],
   "source": []
  },
  {
   "cell_type": "code",
   "execution_count": null,
   "metadata": {},
   "outputs": [],
   "source": []
  },
  {
   "cell_type": "markdown",
   "metadata": {},
   "source": [
    "## Model Fitting"
   ]
  },
  {
   "cell_type": "code",
   "execution_count": 23,
   "metadata": {},
   "outputs": [],
   "source": [
    "X = real_x\n",
    "y = pd.read_csv('/Users/mercuryliu/Documents/Kaggle/ga-customer-revenue-prediction/y_v2.csv').drop('Unnamed: 0', axis=1)\n"
   ]
  },
  {
   "cell_type": "code",
   "execution_count": null,
   "metadata": {},
   "outputs": [],
   "source": []
  },
  {
   "cell_type": "code",
   "execution_count": null,
   "metadata": {},
   "outputs": [],
   "source": []
  },
  {
   "cell_type": "code",
   "execution_count": 24,
   "metadata": {},
   "outputs": [],
   "source": [
    "y_log = np.log(y + 1)\n",
    "X_train, X_test, y_train, y_test = train_test_split(X, y_log, test_size=0.3, random_state=42)"
   ]
  },
  {
   "cell_type": "code",
   "execution_count": 25,
   "metadata": {},
   "outputs": [],
   "source": [
    "#remeber to reshape y to 1d array, otherwise warning message would be raised\n",
    "y_train = y_train.to_numpy().reshape(len(y_train),)"
   ]
  },
  {
   "cell_type": "code",
   "execution_count": null,
   "metadata": {},
   "outputs": [],
   "source": []
  },
  {
   "cell_type": "code",
   "execution_count": 26,
   "metadata": {},
   "outputs": [],
   "source": [
    "scaler = MinMaxScaler()\n",
    "X_train_s = scaler.fit_transform(X_train)\n",
    "\n",
    "pca_train = PCA(n_components = 12)\n",
    "X_train_r = pca_train.fit_transform(X_train_s)"
   ]
  },
  {
   "cell_type": "code",
   "execution_count": null,
   "metadata": {},
   "outputs": [],
   "source": []
  },
  {
   "cell_type": "code",
   "execution_count": null,
   "metadata": {},
   "outputs": [],
   "source": []
  },
  {
   "cell_type": "code",
   "execution_count": 27,
   "metadata": {},
   "outputs": [],
   "source": [
    "m_best = GradientBoostingRegressor(n_estimators=70, max_depth=20, min_samples_leaf=20,\\\n",
    "                                  loss='ls', learning_rate=0.05, criterion='mse',\\\n",
    "                                  max_features='sqrt', random_state=2)"
   ]
  },
  {
   "cell_type": "code",
   "execution_count": 28,
   "metadata": {},
   "outputs": [
    {
     "data": {
      "text/plain": [
       "GradientBoostingRegressor(criterion='mse', learning_rate=0.05, max_depth=20,\n",
       "                          max_features='sqrt', min_samples_leaf=20,\n",
       "                          n_estimators=70, random_state=2)"
      ]
     },
     "execution_count": 28,
     "metadata": {},
     "output_type": "execute_result"
    }
   ],
   "source": [
    "m_best.fit(X_train_r, y_train) #fit model\n"
   ]
  },
  {
   "cell_type": "markdown",
   "metadata": {},
   "source": [
    "## Prediction"
   ]
  },
  {
   "cell_type": "code",
   "execution_count": 29,
   "metadata": {},
   "outputs": [],
   "source": [
    "pred = m_best.predict(X_r)\n"
   ]
  },
  {
   "cell_type": "markdown",
   "metadata": {},
   "source": [
    "## Submission"
   ]
  },
  {
   "cell_type": "code",
   "execution_count": 30,
   "metadata": {},
   "outputs": [],
   "source": [
    "sample = pd.read_csv('/Users/mercuryliu/Documents/Kaggle/ga-customer-revenue-prediction/sample_submission_v2.csv',\\\n",
    "                    low_memory=False).drop('PredictedLogRevenue', axis=1)"
   ]
  },
  {
   "cell_type": "code",
   "execution_count": 31,
   "metadata": {},
   "outputs": [
    {
     "data": {
      "text/plain": [
       "Index(['fullVisitorId'], dtype='object')"
      ]
     },
     "execution_count": 31,
     "metadata": {},
     "output_type": "execute_result"
    }
   ],
   "source": [
    "sample['fullVisitorId']"
   ]
  },
  {
   "cell_type": "code",
   "execution_count": 32,
   "metadata": {},
   "outputs": [],
   "source": [
    "submission = pd.DataFrame()\n",
    "submission['fullVisitorId'] = X_unique['fullVisitorId']\n",
    "submission['PredictedLogRevenue'] = pred"
   ]
  },
  {
   "cell_type": "code",
   "execution_count": 33,
   "metadata": {},
   "outputs": [],
   "source": [
    "submission['new_id'] = sample['fullVisitorId']"
   ]
  },
  {
   "cell_type": "code",
   "execution_count": 34,
   "metadata": {},
   "outputs": [
    {
     "data": {
      "text/html": [
       "<div>\n",
       "<style scoped>\n",
       "    .dataframe tbody tr th:only-of-type {\n",
       "        vertical-align: middle;\n",
       "    }\n",
       "\n",
       "    .dataframe tbody tr th {\n",
       "        vertical-align: top;\n",
       "    }\n",
       "\n",
       "    .dataframe thead th {\n",
       "        text-align: right;\n",
       "    }\n",
       "</style>\n",
       "<table border=\"1\" class=\"dataframe\">\n",
       "  <thead>\n",
       "    <tr style=\"text-align: right;\">\n",
       "      <th></th>\n",
       "      <th>fullVisitorId</th>\n",
       "      <th>PredictedLogRevenue</th>\n",
       "      <th>new_id</th>\n",
       "    </tr>\n",
       "  </thead>\n",
       "  <tbody>\n",
       "    <tr>\n",
       "      <th>0</th>\n",
       "      <td>7460955084541987166</td>\n",
       "      <td>0.436980</td>\n",
       "      <td>0000018966949534117</td>\n",
       "    </tr>\n",
       "    <tr>\n",
       "      <th>1</th>\n",
       "      <td>460252456180441002</td>\n",
       "      <td>1.282965</td>\n",
       "      <td>0000039738481224681</td>\n",
       "    </tr>\n",
       "    <tr>\n",
       "      <th>2</th>\n",
       "      <td>3461808543879602873</td>\n",
       "      <td>0.082952</td>\n",
       "      <td>0000073585230191399</td>\n",
       "    </tr>\n",
       "    <tr>\n",
       "      <th>3</th>\n",
       "      <td>975129477712150630</td>\n",
       "      <td>0.981545</td>\n",
       "      <td>0000087588448856385</td>\n",
       "    </tr>\n",
       "    <tr>\n",
       "      <th>4</th>\n",
       "      <td>8381672768065729990</td>\n",
       "      <td>-0.041743</td>\n",
       "      <td>0000149787903119437</td>\n",
       "    </tr>\n",
       "  </tbody>\n",
       "</table>\n",
       "</div>"
      ],
      "text/plain": [
       "         fullVisitorId  PredictedLogRevenue               new_id\n",
       "0  7460955084541987166             0.436980  0000018966949534117\n",
       "1   460252456180441002             1.282965  0000039738481224681\n",
       "2  3461808543879602873             0.082952  0000073585230191399\n",
       "3   975129477712150630             0.981545  0000087588448856385\n",
       "4  8381672768065729990            -0.041743  0000149787903119437"
      ]
     },
     "execution_count": 34,
     "metadata": {},
     "output_type": "execute_result"
    }
   ],
   "source": [
    "submission.head()"
   ]
  },
  {
   "cell_type": "code",
   "execution_count": 40,
   "metadata": {},
   "outputs": [],
   "source": [
    "submission.sort_values(by=['fullVisitorId'], inplace=True)"
   ]
  },
  {
   "cell_type": "code",
   "execution_count": null,
   "metadata": {},
   "outputs": [],
   "source": []
  },
  {
   "cell_type": "code",
   "execution_count": 41,
   "metadata": {},
   "outputs": [],
   "source": [
    "submission2 = submission.drop('new_id', axis=1)"
   ]
  },
  {
   "cell_type": "code",
   "execution_count": null,
   "metadata": {},
   "outputs": [],
   "source": []
  },
  {
   "cell_type": "code",
   "execution_count": 42,
   "metadata": {},
   "outputs": [
    {
     "data": {
      "text/html": [
       "<div>\n",
       "<style scoped>\n",
       "    .dataframe tbody tr th:only-of-type {\n",
       "        vertical-align: middle;\n",
       "    }\n",
       "\n",
       "    .dataframe tbody tr th {\n",
       "        vertical-align: top;\n",
       "    }\n",
       "\n",
       "    .dataframe thead th {\n",
       "        text-align: right;\n",
       "    }\n",
       "</style>\n",
       "<table border=\"1\" class=\"dataframe\">\n",
       "  <thead>\n",
       "    <tr style=\"text-align: right;\">\n",
       "      <th></th>\n",
       "      <th>fullVisitorId</th>\n",
       "      <th>PredictedLogRevenue</th>\n",
       "    </tr>\n",
       "  </thead>\n",
       "  <tbody>\n",
       "    <tr>\n",
       "      <th>264441</th>\n",
       "      <td>0000018966949534117</td>\n",
       "      <td>0.080926</td>\n",
       "    </tr>\n",
       "    <tr>\n",
       "      <th>187425</th>\n",
       "      <td>0000039738481224681</td>\n",
       "      <td>-0.002738</td>\n",
       "    </tr>\n",
       "    <tr>\n",
       "      <th>91862</th>\n",
       "      <td>0000073585230191399</td>\n",
       "      <td>0.000631</td>\n",
       "    </tr>\n",
       "    <tr>\n",
       "      <th>23103</th>\n",
       "      <td>0000087588448856385</td>\n",
       "      <td>0.023654</td>\n",
       "    </tr>\n",
       "    <tr>\n",
       "      <th>303019</th>\n",
       "      <td>0000149787903119437</td>\n",
       "      <td>-0.004338</td>\n",
       "    </tr>\n",
       "  </tbody>\n",
       "</table>\n",
       "</div>"
      ],
      "text/plain": [
       "              fullVisitorId  PredictedLogRevenue\n",
       "264441  0000018966949534117             0.080926\n",
       "187425  0000039738481224681            -0.002738\n",
       "91862   0000073585230191399             0.000631\n",
       "23103   0000087588448856385             0.023654\n",
       "303019  0000149787903119437            -0.004338"
      ]
     },
     "execution_count": 42,
     "metadata": {},
     "output_type": "execute_result"
    }
   ],
   "source": [
    "submission2.head()"
   ]
  },
  {
   "cell_type": "code",
   "execution_count": null,
   "metadata": {},
   "outputs": [],
   "source": [
    "submission.to_csv(r'/Users/mercuryliu/Documents/Kaggle/ga-customer-revenue-prediction/First Submission.csv',\\\n",
    "                 index=False)"
   ]
  },
  {
   "cell_type": "code",
   "execution_count": 43,
   "metadata": {},
   "outputs": [],
   "source": [
    "submission2.to_csv(r'/Users/mercuryliu/Documents/Kaggle/ga-customer-revenue-prediction/Submission2.csv',\\\n",
    "                 index=False)"
   ]
  },
  {
   "cell_type": "code",
   "execution_count": null,
   "metadata": {},
   "outputs": [],
   "source": []
  },
  {
   "cell_type": "code",
   "execution_count": 44,
   "metadata": {},
   "outputs": [],
   "source": [
    "s = pd.read_csv('/Users/mercuryliu/Documents/Kaggle/ga-customer-revenue-prediction/Submission2.csv', \\\n",
    "               low_memory=False)"
   ]
  },
  {
   "cell_type": "code",
   "execution_count": null,
   "metadata": {},
   "outputs": [],
   "source": []
  },
  {
   "cell_type": "code",
   "execution_count": null,
   "metadata": {},
   "outputs": [],
   "source": []
  },
  {
   "cell_type": "code",
   "execution_count": 45,
   "metadata": {},
   "outputs": [
    {
     "data": {
      "text/plain": [
       "Index(['fullVisitorId', 'PredictedLogRevenue'], dtype='object')"
      ]
     },
     "execution_count": 45,
     "metadata": {},
     "output_type": "execute_result"
    }
   ],
   "source": [
    "s.columns"
   ]
  },
  {
   "cell_type": "code",
   "execution_count": 46,
   "metadata": {},
   "outputs": [
    {
     "name": "stdout",
     "output_type": "stream",
     "text": [
      "<class 'pandas.core.frame.DataFrame'>\n",
      "RangeIndex: 296530 entries, 0 to 296529\n",
      "Data columns (total 2 columns):\n",
      " #   Column               Non-Null Count   Dtype  \n",
      "---  ------               --------------   -----  \n",
      " 0   fullVisitorId        296530 non-null  object \n",
      " 1   PredictedLogRevenue  296530 non-null  float64\n",
      "dtypes: float64(1), object(1)\n",
      "memory usage: 4.5+ MB\n"
     ]
    }
   ],
   "source": [
    "s.info()"
   ]
  },
  {
   "cell_type": "code",
   "execution_count": 47,
   "metadata": {},
   "outputs": [],
   "source": [
    "sample2 = pd.read_csv('/Users/mercuryliu/Documents/Kaggle/ga-customer-revenue-prediction/sample_submission_v2.csv',\\\n",
    "                    low_memory=False)"
   ]
  },
  {
   "cell_type": "code",
   "execution_count": 48,
   "metadata": {},
   "outputs": [
    {
     "name": "stdout",
     "output_type": "stream",
     "text": [
      "<class 'pandas.core.frame.DataFrame'>\n",
      "RangeIndex: 296530 entries, 0 to 296529\n",
      "Data columns (total 2 columns):\n",
      " #   Column               Non-Null Count   Dtype  \n",
      "---  ------               --------------   -----  \n",
      " 0   fullVisitorId        296530 non-null  object \n",
      " 1   PredictedLogRevenue  296530 non-null  float64\n",
      "dtypes: float64(1), object(1)\n",
      "memory usage: 4.5+ MB\n"
     ]
    }
   ],
   "source": [
    "sample2.info()"
   ]
  },
  {
   "cell_type": "code",
   "execution_count": null,
   "metadata": {},
   "outputs": [],
   "source": []
  },
  {
   "cell_type": "code",
   "execution_count": null,
   "metadata": {},
   "outputs": [],
   "source": []
  },
  {
   "cell_type": "code",
   "execution_count": null,
   "metadata": {},
   "outputs": [],
   "source": []
  },
  {
   "cell_type": "code",
   "execution_count": null,
   "metadata": {},
   "outputs": [],
   "source": []
  }
 ],
 "metadata": {
  "kernelspec": {
   "display_name": "Python 3",
   "language": "python",
   "name": "python3"
  },
  "language_info": {
   "codemirror_mode": {
    "name": "ipython",
    "version": 3
   },
   "file_extension": ".py",
   "mimetype": "text/x-python",
   "name": "python",
   "nbconvert_exporter": "python",
   "pygments_lexer": "ipython3",
   "version": "3.8.5"
  }
 },
 "nbformat": 4,
 "nbformat_minor": 4
}
