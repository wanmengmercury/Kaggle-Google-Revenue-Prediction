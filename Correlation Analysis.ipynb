{
 "cells": [
  {
   "cell_type": "markdown",
   "metadata": {},
   "source": [
    "# Correlation Analysis\n",
    "\n",
    "QUESTION: Are the numerical variables(X's) below correlated with the transaction revenue*(Y) and how? \n",
    "\n",
    "*: 'transaction revenue' specifies the total revenue or grand total associated with the transaction (e.g. 11.99). This value may include shipping, tax costs, or other adjustments to total revenue that you want to include as part of your revenue calculations.\n",
    "\n",
    "The numerical variables(X's) are:\n",
    "- visitNumber: The session number for this user. If this is the first session, then this is set to 1.\n",
    "- totals.hits: Common hit types include page tracking hits, event tracking hits, and ecommerce hits. \n",
    "- totals.pageviews: Pageviews is a metric defined as the total number of pages viewed.\n",
    "- totals.timeOnSite:(https://support.google.com/analytics/answer/1006253?hl=en)\n",
    "- totals.newVisits: New users are users who have never been to your website, according to Google’s tracking snippet; returning users have visited your site before. If the cookie is not present, Google creates one and considers this a ‘new’ user. \n",
    "- totals.transactions: 'transactions' represent unique orders on your online store\n",
    "- totals.totalTransactionRevenue: aggregate data of 'totals.TranscationRevenue'.\n",
    "- totals.bounces: A bounce is a single-page session on your site. In Analytics, a bounce is calculated specifically as a session that triggers only a single request to the Analytics server, such as when a user opens a single page on your site and then exits without triggering any other requests to the Analytics server during that session. \n",
    "\n",
    "*totals: features with \"totals\" mean that this set of columns mostly includes high-level aggregate data.\n",
    "\n",
    "METHOD:\n",
    "When it comes to discovering the correlation between variables, one may think of using Pearson's correlation analysis. The drawbacks of Pearson r are that \n",
    "1)if you use Pearson correlation, it means that you assume the (x, y)'s are from a bivariate normal distribution;\n",
    "2) The Pearson r can be highly influenced by outliers.\n",
    "Since the (x, y)'s are not from the normal distribution, it is better to use a non-parametric approach, i.e. Spearman's rank correlation\n",
    "\n",
    "\n",
    "HYPOTHESIS TESTING:\n",
    "- H_0: ρ = 0 (no asscociation between X_i and y)\n",
    "- H_1: ρ != 0 (no asscociation between X_i and y)\n",
    "\n",
    "- test statistics: \n",
    "t_obs_spear = r_sp[0] * math.sqrt((len(X) - 2) / (1 - r_sp[0]**2))\n",
    "- significance level: 5%\n",
    "- decision rule: we reject H_0 if and only if |t_obs_spear| >= t_alpha/2_n-2\n",
    "\n",
    "CONCLUSION:\n",
    "\n",
    "- We reject H_0 and claim that the visitNumber is positively associated with the transaction revenue at the 5% level.\n",
    "- We reject H_0 and claim that the totals.hits is postively associated with the transaction revenue at the 5% level.\n",
    "- We reject H_0 and claim that the totals.pageviews is positively associated with the transaction revenue at the 5% level.\n",
    "- We reject H_0 and claim that the totals.timeOnSite is positively associated with the transaction revenue at the 5% level.\n",
    "- We reject H_0 and claim that the totals.newVisits is negatively associated with the transaction revenue at the 5% level.\n",
    "- We reject H_0 and claim that the totals.transactions is positively associated with the transaction revenue at the 5% level.\n",
    "- We reject H_0 and claim that the totals.totalTransactionRevenue is positively associated with the transaction revenue at the 5% level.\n",
    "- We reject H_0 and claim that the totals.bounces is negatively associated with the transaction revenue at the 5% level.\n",
    "\n"
   ]
  },
  {
   "cell_type": "code",
   "execution_count": 1,
   "metadata": {},
   "outputs": [],
   "source": [
    "import numpy as np\n",
    "import pandas as pd\n",
    "from matplotlib import pyplot as plt\n",
    "%matplotlib inline\n",
    "from sklearn.linear_model import LinearRegression\n",
    "import seaborn as sns\n",
    "from scipy import stats\n",
    "import statsmodels.api as sm\n",
    "from sklearn.model_selection import train_test_split\n",
    "\n",
    "import math\n"
   ]
  },
  {
   "cell_type": "code",
   "execution_count": 2,
   "metadata": {},
   "outputs": [],
   "source": [
    "X = pd.read_csv('/Users/mercuryliu/Documents/Kaggle/ga-customer-revenue-prediction/X_v2.csv', \\\n",
    "                low_memory=False).drop(['visitHour', 'Unnamed: 0'], axis=1)\n",
    "y = pd.read_csv('/Users/mercuryliu/Documents/Kaggle/ga-customer-revenue-prediction/y_v2.csv', \\\n",
    "                low_memory=False).drop('Unnamed: 0', axis=1)"
   ]
  },
  {
   "cell_type": "code",
   "execution_count": 3,
   "metadata": {},
   "outputs": [
    {
     "name": "stdout",
     "output_type": "stream",
     "text": [
      "<class 'pandas.core.frame.DataFrame'>\n",
      "RangeIndex: 119264 entries, 0 to 119263\n",
      "Data columns (total 26 columns):\n",
      " #   Column                                    Non-Null Count   Dtype  \n",
      "---  ------                                    --------------   -----  \n",
      " 0   visitNumber                               119264 non-null  int64  \n",
      " 1   totals.visits                             119264 non-null  int64  \n",
      " 2   totals.hits                               119264 non-null  int64  \n",
      " 3   totals.pageviews                          119264 non-null  int64  \n",
      " 4   totals.timeOnSite                         119264 non-null  int64  \n",
      " 5   totals.newVisits                          119264 non-null  int64  \n",
      " 6   totals.transactions                       119264 non-null  float64\n",
      " 7   totals.totalTransactionRevenue            119264 non-null  float64\n",
      " 8   totals.bounces                            119264 non-null  int64  \n",
      " 9   channelGrouping                           119264 non-null  int64  \n",
      " 10  socialEngagementType                      119264 non-null  int64  \n",
      " 11  device.browser                            119264 non-null  int64  \n",
      " 12  device.operatingSystem                    119264 non-null  int64  \n",
      " 13  device.isMobile                           119264 non-null  int64  \n",
      " 14  device.deviceCategory                     119264 non-null  int64  \n",
      " 15  geoNetwork.continent                      119264 non-null  int64  \n",
      " 16  geoNetwork.subContinent                   119264 non-null  int64  \n",
      " 17  geoNetwork.country                        119264 non-null  int64  \n",
      " 18  geoNetwork.networkDomain                  119264 non-null  int64  \n",
      " 19  trafficSource.campaign                    119264 non-null  int64  \n",
      " 20  trafficSource.source                      119264 non-null  int64  \n",
      " 21  trafficSource.medium                      119264 non-null  int64  \n",
      " 22  trafficSource.keyword                     119264 non-null  int64  \n",
      " 23  trafficSource.adwordsClickInfo.isVideoAd  119264 non-null  int64  \n",
      " 24  trafficSource.referralPath                119264 non-null  int64  \n",
      " 25  trafficSource.isTrueDirect                119264 non-null  int64  \n",
      "dtypes: float64(2), int64(24)\n",
      "memory usage: 23.7 MB\n"
     ]
    }
   ],
   "source": [
    "X.info()"
   ]
  },
  {
   "cell_type": "markdown",
   "metadata": {},
   "source": [
    "#I am only analyzing the correlaiton between continuous variables and the response variable\n",
    "#I will not investigate the categorical variables here\n",
    "#in terms of the categorical variables, I will leave it to ANOVA"
   ]
  },
  {
   "cell_type": "code",
   "execution_count": 4,
   "metadata": {},
   "outputs": [],
   "source": [
    "num_name = ['visitNumber', 'totals.hits', 'totals.pageviews', 'totals.timeOnSite',\\\n",
    "                'totals.newVisits','totals.transactions', 'totals.totalTransactionRevenue',\\\n",
    "               'totals.bounces']"
   ]
  },
  {
   "cell_type": "code",
   "execution_count": 5,
   "metadata": {},
   "outputs": [],
   "source": [
    "X_analy = X[num_name]"
   ]
  },
  {
   "cell_type": "code",
   "execution_count": 6,
   "metadata": {},
   "outputs": [],
   "source": [
    "r_sp = []\n",
    "p_val =[]\n",
    "for i in range(len(X_analy.columns)):\n",
    "    a,b = stats.spearmanr(X_analy.iloc[:,i],y)\n",
    "    r_sp.append(a)\n",
    "    p_val.append(b)\n",
    "\n"
   ]
  },
  {
   "cell_type": "code",
   "execution_count": 7,
   "metadata": {},
   "outputs": [],
   "source": [
    "r_sp_all = pd.DataFrame(r_sp, columns=['Spearman_s_rank_correlation'])"
   ]
  },
  {
   "cell_type": "code",
   "execution_count": 8,
   "metadata": {},
   "outputs": [],
   "source": [
    "r_sp_all['p_value'] = p_val"
   ]
  },
  {
   "cell_type": "code",
   "execution_count": 9,
   "metadata": {},
   "outputs": [],
   "source": [
    "#find t alpha/2, n-2, suppose we want 95% confidence level\n",
    "t = stats.t.ppf(1-0.05/2, len(X_analy)-2)\n",
    "t_obs = []\n",
    "for i in range(len(r_sp)):\n",
    "    t_test =  r_sp[i] * math.sqrt((len(X_analy) - 2) / (1 - r_sp[i]**2))\n",
    "    if abs(t_test) >= t:\n",
    "        t_obs.append('reject')\n",
    "    else: \n",
    "        t_obs.append('doesnt reject')"
   ]
  },
  {
   "cell_type": "code",
   "execution_count": 10,
   "metadata": {},
   "outputs": [],
   "source": [
    "#hypothesis testing results\n",
    "r_sp_all['Hypothesis Testing results'] = t_obs"
   ]
  },
  {
   "cell_type": "code",
   "execution_count": 11,
   "metadata": {},
   "outputs": [],
   "source": [
    "r_sp_all['X_names'] = X_analy.columns"
   ]
  },
  {
   "cell_type": "code",
   "execution_count": 12,
   "metadata": {},
   "outputs": [
    {
     "data": {
      "text/html": [
       "<div>\n",
       "<style scoped>\n",
       "    .dataframe tbody tr th:only-of-type {\n",
       "        vertical-align: middle;\n",
       "    }\n",
       "\n",
       "    .dataframe tbody tr th {\n",
       "        vertical-align: top;\n",
       "    }\n",
       "\n",
       "    .dataframe thead th {\n",
       "        text-align: right;\n",
       "    }\n",
       "</style>\n",
       "<table border=\"1\" class=\"dataframe\">\n",
       "  <thead>\n",
       "    <tr style=\"text-align: right;\">\n",
       "      <th></th>\n",
       "      <th>Spearman_s_rank_correlation</th>\n",
       "      <th>p_value</th>\n",
       "      <th>Hypothesis Testing results</th>\n",
       "      <th>X_names</th>\n",
       "    </tr>\n",
       "  </thead>\n",
       "  <tbody>\n",
       "    <tr>\n",
       "      <th>5</th>\n",
       "      <td>0.999999</td>\n",
       "      <td>0.000000e+00</td>\n",
       "      <td>reject</td>\n",
       "      <td>totals.transactions</td>\n",
       "    </tr>\n",
       "    <tr>\n",
       "      <th>6</th>\n",
       "      <td>0.999999</td>\n",
       "      <td>0.000000e+00</td>\n",
       "      <td>reject</td>\n",
       "      <td>totals.totalTransactionRevenue</td>\n",
       "    </tr>\n",
       "    <tr>\n",
       "      <th>2</th>\n",
       "      <td>0.185551</td>\n",
       "      <td>0.000000e+00</td>\n",
       "      <td>reject</td>\n",
       "      <td>totals.pageviews</td>\n",
       "    </tr>\n",
       "    <tr>\n",
       "      <th>1</th>\n",
       "      <td>0.183775</td>\n",
       "      <td>0.000000e+00</td>\n",
       "      <td>reject</td>\n",
       "      <td>totals.hits</td>\n",
       "    </tr>\n",
       "    <tr>\n",
       "      <th>3</th>\n",
       "      <td>0.175349</td>\n",
       "      <td>0.000000e+00</td>\n",
       "      <td>reject</td>\n",
       "      <td>totals.timeOnSite</td>\n",
       "    </tr>\n",
       "    <tr>\n",
       "      <th>0</th>\n",
       "      <td>0.095544</td>\n",
       "      <td>7.706733e-240</td>\n",
       "      <td>reject</td>\n",
       "      <td>visitNumber</td>\n",
       "    </tr>\n",
       "    <tr>\n",
       "      <th>4</th>\n",
       "      <td>-0.092972</td>\n",
       "      <td>3.718542e-227</td>\n",
       "      <td>reject</td>\n",
       "      <td>totals.newVisits</td>\n",
       "    </tr>\n",
       "    <tr>\n",
       "      <th>7</th>\n",
       "      <td>-0.107912</td>\n",
       "      <td>9.646401e-306</td>\n",
       "      <td>reject</td>\n",
       "      <td>totals.bounces</td>\n",
       "    </tr>\n",
       "  </tbody>\n",
       "</table>\n",
       "</div>"
      ],
      "text/plain": [
       "   Spearman_s_rank_correlation        p_value Hypothesis Testing results  \\\n",
       "5                     0.999999   0.000000e+00                     reject   \n",
       "6                     0.999999   0.000000e+00                     reject   \n",
       "2                     0.185551   0.000000e+00                     reject   \n",
       "1                     0.183775   0.000000e+00                     reject   \n",
       "3                     0.175349   0.000000e+00                     reject   \n",
       "0                     0.095544  7.706733e-240                     reject   \n",
       "4                    -0.092972  3.718542e-227                     reject   \n",
       "7                    -0.107912  9.646401e-306                     reject   \n",
       "\n",
       "                          X_names  \n",
       "5             totals.transactions  \n",
       "6  totals.totalTransactionRevenue  \n",
       "2                totals.pageviews  \n",
       "1                     totals.hits  \n",
       "3               totals.timeOnSite  \n",
       "0                     visitNumber  \n",
       "4                totals.newVisits  \n",
       "7                  totals.bounces  "
      ]
     },
     "execution_count": 12,
     "metadata": {},
     "output_type": "execute_result"
    }
   ],
   "source": [
    "#we can claim correlation based on the results below\n",
    "r_sp_all.sort_values(by=['Spearman_s_rank_correlation'], ascending=False)"
   ]
  },
  {
   "cell_type": "code",
   "execution_count": 13,
   "metadata": {},
   "outputs": [
    {
     "name": "stdout",
     "output_type": "stream",
     "text": [
      "We reject H_0 and claim that the visitNumber is positively associated with the transaction revenue at the 5% level.\n",
      "We reject H_0 and claim that the totals.hits is positively associated with the transaction revenue at the 5% level.\n",
      "We reject H_0 and claim that the totals.pageviews is positively associated with the transaction revenue at the 5% level.\n",
      "We reject H_0 and claim that the totals.timeOnSite is positively associated with the transaction revenue at the 5% level.\n",
      "We reject H_0 and claim that the totals.newVisits is negatively associated with the transaction revenue at the 5% level.\n",
      "We reject H_0 and claim that the totals.transactions is positively associated with the transaction revenue at the 5% level.\n",
      "We reject H_0 and claim that the totals.totalTransactionRevenue is positively associated with the transaction revenue at the 5% level.\n",
      "We reject H_0 and claim that the totals.bounces is negatively associated with the transaction revenue at the 5% level.\n"
     ]
    }
   ],
   "source": [
    "for i in range(len(X_analy.columns)):\n",
    "    if r_sp_all.Spearman_s_rank_correlation[i] > 0:\n",
    "        print(f'We reject H_0 and claim that the {r_sp_all.X_names[i]} is positively associated with the transaction revenue at the 5% level.')\n",
    "    else:\n",
    "        print(f'We reject H_0 and claim that the {r_sp_all.X_names[i]} is negatively associated with the transaction revenue at the 5% level.')"
   ]
  }
 ],
 "metadata": {
  "kernelspec": {
   "display_name": "Python 3",
   "language": "python",
   "name": "python3"
  },
  "language_info": {
   "codemirror_mode": {
    "name": "ipython",
    "version": 3
   },
   "file_extension": ".py",
   "mimetype": "text/x-python",
   "name": "python",
   "nbconvert_exporter": "python",
   "pygments_lexer": "ipython3",
   "version": "3.8.5"
  }
 },
 "nbformat": 4,
 "nbformat_minor": 4
}
