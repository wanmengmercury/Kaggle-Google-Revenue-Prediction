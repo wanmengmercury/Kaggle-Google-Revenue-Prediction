{
 "cells": [
  {
   "cell_type": "markdown",
   "metadata": {},
   "source": [
    "# Model comparison\n",
    "\n",
    "Goal: Predict the natural log of the total transaction revenue (continuous variable) with 26 given features of customer data (include both continuous and categorical variable)\n",
    "\n",
    "In this file, I compare the prediction performance of the following models:\n",
    "- ridge regression\n",
    "- lasso regression\n",
    "- random forest regressor\n",
    "- gradient boosting regressor\n",
    "\n",
    "I choose the Mean Square Error (MSE) as the criterion for model evaluation. \n",
    "\n",
    "Results: \n",
    "The MSE of lasso and ridge regression models is higher than random forest and gradient boosting models. \n",
    "Although the testing errors of the random forest model is lower than the gradient boosting one,\n",
    "with the Kaggle real test set, the performance of the gradient boosting model(root mean square error = 0.96080) is better than the random forest model (root mean square error = 1.27898)\n"
   ]
  },
  {
   "cell_type": "code",
   "execution_count": 1,
   "metadata": {},
   "outputs": [],
   "source": [
    "import numpy as np\n",
    "import pandas as pd\n",
    "from matplotlib import pyplot as plt\n",
    "%matplotlib inline\n",
    "\n",
    "from sklearn.preprocessing import MinMaxScaler\n",
    "from sklearn.decomposition import PCA\n",
    "from sklearn.model_selection import train_test_split\n",
    "from sklearn.decomposition import PCA, SparsePCA\n",
    "\n",
    "\n",
    "from sklearn.linear_model import Ridge, Lasso\n",
    "from sklearn.ensemble import RandomForestRegressor\n",
    "from sklearn.ensemble import GradientBoostingRegressor\n",
    "\n",
    "\n",
    "from sklearn.model_selection import cross_val_score\n",
    "from sklearn.model_selection import RepeatedKFold\n",
    "from sklearn.model_selection import GridSearchCV\n",
    "from sklearn.metrics import mean_squared_error\n",
    "\n"
   ]
  },
  {
   "cell_type": "markdown",
   "metadata": {},
   "source": [
    "## Data Preprocessing"
   ]
  },
  {
   "cell_type": "code",
   "execution_count": 2,
   "metadata": {},
   "outputs": [],
   "source": [
    "X = pd.read_csv('/Users/mercuryliu/Documents/Kaggle/ga-customer-revenue-prediction/X_v2.csv', \\\n",
    "                low_memory=False).drop(['visitHour', 'Unnamed: 0'], axis=1)\n",
    "y = pd.read_csv('/Users/mercuryliu/Documents/Kaggle/ga-customer-revenue-prediction/y_v2.csv', \\\n",
    "                low_memory=False).drop('Unnamed: 0', axis=1)"
   ]
  },
  {
   "cell_type": "code",
   "execution_count": 3,
   "metadata": {},
   "outputs": [],
   "source": [
    "y_log = np.log(y + 1)"
   ]
  },
  {
   "cell_type": "code",
   "execution_count": 4,
   "metadata": {},
   "outputs": [
    {
     "data": {
      "text/plain": [
       "26"
      ]
     },
     "execution_count": 4,
     "metadata": {},
     "output_type": "execute_result"
    }
   ],
   "source": [
    "len(X.columns)"
   ]
  },
  {
   "cell_type": "code",
   "execution_count": 5,
   "metadata": {},
   "outputs": [],
   "source": [
    "X_train, X_test, y_train, y_test = train_test_split(X, y_log, test_size=0.3, random_state=42)\n",
    "\n",
    "#remeber to reshape y to 1d array, otherwise warning message would be raised\n",
    "y_train = y_train.to_numpy().reshape(len(y_train),)\n",
    "y_test = y_test.to_numpy().reshape(len(y_test),)\n"
   ]
  },
  {
   "cell_type": "code",
   "execution_count": 6,
   "metadata": {},
   "outputs": [],
   "source": [
    "scaler = MinMaxScaler()\n",
    "X_train_s = scaler.fit_transform(X_train)\n",
    "X_test_s = scaler.fit_transform(X_test)"
   ]
  },
  {
   "cell_type": "code",
   "execution_count": 7,
   "metadata": {},
   "outputs": [
    {
     "data": {
      "image/png": "[encoded data removed]",
      "text/plain": [
       "<Figure size 432x288 with 1 Axes>"
      ]
     },
     "metadata": {
      "needs_background": "light"
     },
     "output_type": "display_data"
    }
   ],
   "source": [
    "var = []\n",
    "for i in range(5, 25, 1):\n",
    "    pca = PCA(n_components = i)\n",
    "    X_train_r = pca.fit_transform(X_train_s)\n",
    "    k = np.sum(pca.explained_variance_ratio_)\n",
    "    var.append(k)\n",
    "\n",
    "#Since I want a dataset that can explain at least 95% of the variance\n",
    "#set n_components = 12\n",
    "plt.plot(list(range(5, 25, 1)), var)\n",
    "plt.xlabel('number of components')\n",
    "plt.ylabel('explained variance ratio')\n",
    "plt.show()"
   ]
  },
  {
   "cell_type": "code",
   "execution_count": 8,
   "metadata": {},
   "outputs": [],
   "source": [
    "pca_train = PCA(n_components = 12)\n",
    "X_train_r = pca_train.fit_transform(X_train_s)\n",
    "\n",
    "pca_test = PCA(n_components = 12)\n",
    "X_test_r = pca_test.fit_transform(X_test_s)"
   ]
  },
  {
   "cell_type": "code",
   "execution_count": 9,
   "metadata": {},
   "outputs": [
    {
     "data": {
      "text/plain": [
       "True"
      ]
     },
     "execution_count": 9,
     "metadata": {},
     "output_type": "execute_result"
    }
   ],
   "source": [
    "np.sum(pca_train.explained_variance_ratio_) > 0.95"
   ]
  },
  {
   "cell_type": "code",
   "execution_count": 10,
   "metadata": {},
   "outputs": [
    {
     "data": {
      "text/plain": [
       "True"
      ]
     },
     "execution_count": 10,
     "metadata": {},
     "output_type": "execute_result"
    }
   ],
   "source": [
    "np.sum(pca_test.explained_variance_ratio_) > 0.95"
   ]
  },
  {
   "cell_type": "markdown",
   "metadata": {},
   "source": [
    "## 1. Ridge Regression"
   ]
  },
  {
   "cell_type": "code",
   "execution_count": 11,
   "metadata": {},
   "outputs": [
    {
     "data": {
      "text/plain": [
       "GridSearchCV(cv=3, estimator=Ridge(random_state=2),\n",
       "             param_grid={'alpha': [0.01, 0.05, 0.1, 0.3, 0.5, 0.8, 1, 2, 3],\n",
       "                         'solver': ['auto', 'svd', 'cholesky', 'lsqr',\n",
       "                                    'sparse_cg', 'sag', 'saga']},\n",
       "             scoring='neg_mean_squared_error')"
      ]
     },
     "execution_count": 11,
     "metadata": {},
     "output_type": "execute_result"
    }
   ],
   "source": [
    "param_ridge = {'alpha': [0.01, 0.05, 0.1, 0.3, 0.5, 0.8, 1, 2, 3], \\\n",
    "              'solver': ['auto', 'svd', 'cholesky', 'lsqr', \\\n",
    "                         'sparse_cg', 'sag', 'saga']}\n",
    "m1 = Ridge(random_state=2)\n",
    "lr_ridge = GridSearchCV(m1, param_ridge, cv=3, scoring='neg_mean_squared_error')\n",
    "lr_ridge.fit(X_train_r, y_train)\n"
   ]
  },
  {
   "cell_type": "code",
   "execution_count": 12,
   "metadata": {},
   "outputs": [
    {
     "data": {
      "text/plain": [
       "{'alpha': 3, 'solver': 'lsqr'}"
      ]
     },
     "execution_count": 12,
     "metadata": {},
     "output_type": "execute_result"
    }
   ],
   "source": [
    "lr_ridge.best_params_"
   ]
  },
  {
   "cell_type": "markdown",
   "metadata": {},
   "source": [
    "## 2. Lasso Regression"
   ]
  },
  {
   "cell_type": "code",
   "execution_count": 13,
   "metadata": {},
   "outputs": [
    {
     "data": {
      "text/plain": [
       "GridSearchCV(cv=3, estimator=Lasso(random_state=2),\n",
       "             param_grid={'alpha': [0.01, 0.05, 0.1, 0.3, 0.5, 0.8, 1, 2, 3]},\n",
       "             scoring='neg_mean_squared_error')"
      ]
     },
     "execution_count": 13,
     "metadata": {},
     "output_type": "execute_result"
    }
   ],
   "source": [
    "param_lasso = {'alpha': [0.01, 0.05, 0.1, 0.3, 0.5, 0.8, 1, 2, 3]}\n",
    "m2 = Lasso(random_state=2)\n",
    "lr_lasso = GridSearchCV(m2, param_lasso, cv=3, scoring='neg_mean_squared_error')\n",
    "lr_lasso.fit(X_train_r, y_train)\n"
   ]
  },
  {
   "cell_type": "code",
   "execution_count": 14,
   "metadata": {},
   "outputs": [
    {
     "data": {
      "text/plain": [
       "{'alpha': 0.01}"
      ]
     },
     "execution_count": 14,
     "metadata": {},
     "output_type": "execute_result"
    }
   ],
   "source": [
    "lr_lasso.best_params_"
   ]
  },
  {
   "cell_type": "markdown",
   "metadata": {},
   "source": [
    "## 3. Random Forest "
   ]
  },
  {
   "cell_type": "code",
   "execution_count": 15,
   "metadata": {},
   "outputs": [
    {
     "name": "stderr",
     "output_type": "stream",
     "text": [
      "scitime.estimate.RuntimeEstimator:DEBUG:The model would fit. Moving on\n",
      "scitime.estimate.RuntimeEstimator:DEBUG:Fetching estimator: RF_RandomForestRegressor_estimator.pkl\n",
      "scitime.estimate.RuntimeEstimator:INFO:Training your model for these params: {'total_memory': [17179869184], 'available_memory': [1575047168], 'num_cpu': [8], 'num_rows': [83484], 'num_features': [12], 'n_estimators': [100], 'max_depth': [24], 'min_samples_split': [2], 'min_samples_leaf': [1], 'min_weight_fraction_leaf': [0.0], 'max_features': ['auto'], 'criterion': ['mse'], 'max_leaf_nodes': [None], 'min_impurity_decrease': [0.0], 'min_impurity_split': [None], 'bootstrap': [False], 'oob_score': [False], 'n_jobs': [None]}\n",
      "scitime.estimate.RuntimeEstimator:INFO:Transforming dataset for semi dummy features\n",
      "scitime.estimate.RuntimeEstimator:WARNING:Parameters ['max_samples', 'ccp_alpha', 'verbose', 'random_state', 'warm_start'] will not be accounted for\n",
      "scitime.estimate.RuntimeEstimator:INFO:Training your RandomForestRegressor model should take ~ 5 minutes\n",
      "                and 39 seconds\n",
      "scitime.estimate.RuntimeEstimator:INFO:The 95.0% prediction interval is [0 seconds, 1 hour and 43\n",
      "                minutes and 44 seconds]\n"
     ]
    }
   ],
   "source": [
    "import time\n",
    "\n",
    "from scitime import RuntimeEstimator\n",
    "estimator = RuntimeEstimator(meta_algo='RF', verbose=3)\n",
    "tree_model = RandomForestRegressor(max_depth=i,random_state=2, bootstrap=False)\n",
    "\n",
    "# run the estimation\n",
    "estimation, lower_bound, upper_bound = estimator.time(tree_model, X_train_r, y_train)\n"
   ]
  },
  {
   "cell_type": "code",
   "execution_count": 18,
   "metadata": {},
   "outputs": [
    {
     "data": {
      "image/png": "[encoded data removed]",
      "text/plain": [
       "<Figure size 432x288 with 1 Axes>"
      ]
     },
     "metadata": {
      "needs_background": "light"
     },
     "output_type": "display_data"
    },
    {
     "name": "stdout",
     "output_type": "stream",
     "text": [
      "CPU times: user 34min 54s, sys: 5.5 s, total: 34min 59s\n",
      "Wall time: 35min\n"
     ]
    }
   ],
   "source": [
    "%%time\n",
    "sm_tree_depths = list(range(5, 150, 10))\n",
    "cv_sc = []\n",
    "for i in sm_tree_depths:\n",
    "    tree_model = RandomForestRegressor(max_depth=i,random_state=2, bootstrap=False)\n",
    "    cv_scores = cross_val_score(tree_model, X_train_r, y_train, cv=3, scoring='neg_mean_squared_error')\n",
    "    cv_sc.append(cv_scores)\n",
    "\n",
    "plt.plot(sm_tree_depths, cv_sc)\n",
    "plt.show()\n",
    "#max_depth = 35, afte 35, the performance do not improve "
   ]
  },
  {
   "cell_type": "markdown",
   "metadata": {},
   "source": [
    "## 5. Prediction"
   ]
  },
  {
   "cell_type": "code",
   "execution_count": 23,
   "metadata": {},
   "outputs": [
    {
     "name": "stdout",
     "output_type": "stream",
     "text": [
      "CPU times: user 43.9 s, sys: 397 ms, total: 44.3 s\n",
      "Wall time: 43.2 s\n"
     ]
    },
    {
     "data": {
      "text/plain": [
       "GradientBoostingRegressor(criterion='mse', learning_rate=0.05, max_depth=20,\n",
       "                          max_features='sqrt', min_samples_leaf=20,\n",
       "                          n_estimators=70, random_state=2)"
      ]
     },
     "execution_count": 23,
     "metadata": {},
     "output_type": "execute_result"
    }
   ],
   "source": [
    "%%time\n",
    "\n",
    "#fit models with the best parameters \n",
    "#ridge\n",
    "ridge_b = Ridge(random_state=2, alpha=3, solver='lsqr')\n",
    "ridge_b.fit(X_train_r, y_train)\n",
    "#lasso\n",
    "lasso_b = Lasso(random_state=2, alpha=0.01)\n",
    "lasso_b.fit(X_train_r, y_train)\n",
    "\n",
    "#random forest\n",
    "rf_b = RandomForestRegressor(max_depth=35, max_features='sqrt', random_state=2, bootstrap=False)\n",
    "rf_b.fit(X_train_r, y_train)\n",
    "\n",
    "#gradient boosting\n",
    "gb_b = GradientBoostingRegressor(n_estimators=70, max_depth=20, min_samples_leaf=20,\\\n",
    "                                  loss='ls', learning_rate=0.05, criterion='mse',\\\n",
    "                                  max_features='sqrt', random_state=2)\n",
    "gb_b.fit(X_train_r, y_train)\n",
    "\n"
   ]
  },
  {
   "cell_type": "code",
   "execution_count": 24,
   "metadata": {},
   "outputs": [],
   "source": [
    "models_b = [ridge_b, lasso_b, rf_b, gb_b]\n",
    "mse_test = []\n",
    "mse_train = []\n",
    "\n",
    "for i in range(len(models_b)):\n",
    "    #testing error\n",
    "    y_pred = models_b[i].predict(X_test_r)\n",
    "    test_e = mean_squared_error(y_test, y_pred)\n",
    "    mse_test.append(test_e)\n",
    "    \n",
    "    #training error\n",
    "    y_pred_train = models_b[i].predict(X_train_r)\n",
    "    train_e = mean_squared_error(y_train, y_pred_train)\n",
    "    mse_train.append(train_e)\n"
   ]
  },
  {
   "cell_type": "code",
   "execution_count": 31,
   "metadata": {},
   "outputs": [
    {
     "data": {
      "image/png": "[encoded data removed]",
      "text/plain": [
       "<Figure size 720x576 with 1 Axes>"
      ]
     },
     "metadata": {
      "needs_background": "light"
     },
     "output_type": "display_data"
    }
   ],
   "source": [
    "plt.figure(figsize=(10,8))\n",
    "c = ['lightsteelblue', 'paleturquoise', 'lemonchiffon', 'lightcoral']\n",
    "plt.bar(name, mse_train, color = c)\n",
    "plt.ylabel('Training Errors')\n",
    "plt.title('Model Performance Comparison')\n",
    "plt.show()"
   ]
  },
  {
   "cell_type": "code",
   "execution_count": 32,
   "metadata": {},
   "outputs": [
    {
     "data": {
      "image/png": "[encoded data removed]",
      "text/plain": [
       "<Figure size 720x576 with 1 Axes>"
      ]
     },
     "metadata": {
      "needs_background": "light"
     },
     "output_type": "display_data"
    }
   ],
   "source": [
    "plt.figure(figsize=(10,8))\n",
    "\n",
    "name = ['ridge regression', 'lasso regression', 'random forest regressor', 'gradient boosting regressor']\n",
    "c = ['lightsteelblue', 'paleturquoise', 'lemonchiffon', 'lightcoral']\n",
    "plt.bar(name, mse_test, color = c)\n",
    "plt.ylabel('Testing Errors')\n",
    "plt.title('Model Performance Comparison')\n",
    "plt.show()"
   ]
  }
 ],
 "metadata": {
  "kernelspec": {
   "display_name": "Python 3",
   "language": "python",
   "name": "python3"
  },
  "language_info": {
   "codemirror_mode": {
    "name": "ipython",
    "version": 3
   },
   "file_extension": ".py",
   "mimetype": "text/x-python",
   "name": "python",
   "nbconvert_exporter": "python",
   "pygments_lexer": "ipython3",
   "version": "3.8.5"
  }
 },
 "nbformat": 4,
 "nbformat_minor": 4
}
