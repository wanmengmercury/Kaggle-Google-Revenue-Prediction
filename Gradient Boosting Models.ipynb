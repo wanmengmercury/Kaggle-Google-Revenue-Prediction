{
 "cells": [
  {
   "cell_type": "code",
   "execution_count": 1,
   "metadata": {},
   "outputs": [],
   "source": [
    "import numpy as np\n",
    "import pandas as pd\n",
    "from matplotlib import pyplot as plt\n",
    "%matplotlib inline\n",
    "import seaborn as sns\n",
    "from scipy import stats\n",
    "import statsmodels.api as sm\n",
    "from sklearn.model_selection import train_test_split\n",
    "\n",
    "from sklearn.ensemble import RandomForestRegressor\n",
    "from sklearn.decomposition import PCA, SparsePCA\n",
    "\n",
    "from sklearn.model_selection import GridSearchCV\n",
    "from sklearn.pipeline import Pipeline\n",
    "\n",
    "from sklearn.datasets import make_regression\n",
    "from sklearn.model_selection import cross_val_score\n",
    "from sklearn.model_selection import RepeatedKFold\n",
    "from sklearn.ensemble import GradientBoostingRegressor\n",
    "\n",
    "from sklearn.metrics import mean_squared_error\n",
    "import lightgbm as lgb\n"
   ]
  },
  {
   "cell_type": "markdown",
   "metadata": {},
   "source": [
    "## Data preprocessing"
   ]
  },
  {
   "cell_type": "code",
   "execution_count": 2,
   "metadata": {},
   "outputs": [],
   "source": [
    "#X_new and y_new came from train.csv\n",
    "X = pd.read_csv('/Users/mercuryliu/Documents/Kaggle/ga-customer-revenue-prediction/X_new.csv').drop('Unnamed: 0', axis=1)\n",
    "y = pd.read_csv('/Users/mercuryliu/Documents/Kaggle/ga-customer-revenue-prediction/y_new.csv').drop('Unnamed: 0', axis=1)\n"
   ]
  },
  {
   "cell_type": "markdown",
   "metadata": {},
   "source": [
    "### Transformation on Y"
   ]
  },
  {
   "cell_type": "code",
   "execution_count": 3,
   "metadata": {},
   "outputs": [],
   "source": [
    "#transform y to the submission form\n",
    "y_log = np.log(y + 1)"
   ]
  },
  {
   "cell_type": "markdown",
   "metadata": {},
   "source": [
    "### Transformation on X through PCA"
   ]
  },
  {
   "cell_type": "code",
   "execution_count": 4,
   "metadata": {},
   "outputs": [],
   "source": [
    "#I split the data into two ways:\n",
    "#1) using 1% of traning data, 2)using 10% of traning data\n",
    "#apply gridsearch PCA to both of them\n",
    "#if the results of optimal number of \"n_components\" are the same\n",
    "#then I can determine the optimal number of dimensionality reduction\n",
    "X_cv1,X_cv2, y_cv1, y_cv2 = train_test_split(X, y_log, test_size=0.99, random_state=42)\n",
    "X_cv3, X_cv4, y_cv3, y_cv4 = train_test_split(X, y_log, test_size=0.9, random_state=42)"
   ]
  },
  {
   "cell_type": "code",
   "execution_count": 5,
   "metadata": {},
   "outputs": [],
   "source": [
    "pca = PCA(n_components=120)\n",
    "forest = RandomForestRegressor(n_estimators=20)\n",
    "\n",
    "pipe = Pipeline(steps=[('pca', pca), ('forest', forest)])\n",
    "\n",
    "param_dict = {\"pca__n_components\":[5, 10, 20],\n",
    "              \"forest__n_estimators\":[5, 10, 30, 50]}\n",
    "\n",
    "estimator = GridSearchCV(pipe,\n",
    "                         param_dict,\n",
    "                         verbose=2)"
   ]
  },
  {
   "cell_type": "code",
   "execution_count": 6,
   "metadata": {},
   "outputs": [
    {
     "name": "stdout",
     "output_type": "stream",
     "text": [
      "Fitting 5 folds for each of 12 candidates, totalling 60 fits\n",
      "[CV] forest__n_estimators=5, pca__n_components=5 .....................\n",
      "[CV] ...... forest__n_estimators=5, pca__n_components=5, total=   0.0s\n",
      "[CV] forest__n_estimators=5, pca__n_components=5 .....................\n",
      "[CV] ...... forest__n_estimators=5, pca__n_components=5, total=   0.0s\n",
      "[CV] forest__n_estimators=5, pca__n_components=5 .....................\n",
      "[CV] ...... forest__n_estimators=5, pca__n_components=5, total=   0.0s\n",
      "[CV] forest__n_estimators=5, pca__n_components=5 .....................\n",
      "[CV] ...... forest__n_estimators=5, pca__n_components=5, total=   0.0s\n",
      "[CV] forest__n_estimators=5, pca__n_components=5 .....................\n",
      "[CV] ...... forest__n_estimators=5, pca__n_components=5, total=   0.0s\n",
      "[CV] forest__n_estimators=5, pca__n_components=10 ....................\n",
      "[CV] ..... forest__n_estimators=5, pca__n_components=10, total=   0.0s\n",
      "[CV] forest__n_estimators=5, pca__n_components=10 ....................\n",
      "[CV] ..... forest__n_estimators=5, pca__n_components=10, total=   0.0s\n",
      "[CV] forest__n_estimators=5, pca__n_components=10 ....................\n",
      "[CV] ..... forest__n_estimators=5, pca__n_components=10, total=   0.0s\n",
      "[CV] forest__n_estimators=5, pca__n_components=10 ....................\n",
      "[CV] ..... forest__n_estimators=5, pca__n_components=10, total=   0.0s\n",
      "[CV] forest__n_estimators=5, pca__n_components=10 ....................\n",
      "[CV] ..... forest__n_estimators=5, pca__n_components=10, total=   0.0s\n",
      "[CV] forest__n_estimators=5, pca__n_components=20 ....................\n",
      "[CV] ..... forest__n_estimators=5, pca__n_components=20, total=   0.0s\n",
      "[CV] forest__n_estimators=5, pca__n_components=20 ....................\n",
      "[CV] ..... forest__n_estimators=5, pca__n_components=20, total=   0.0s\n",
      "[CV] forest__n_estimators=5, pca__n_components=20 ....................\n",
      "[CV] ..... forest__n_estimators=5, pca__n_components=20, total=   0.0s\n",
      "[CV] forest__n_estimators=5, pca__n_components=20 ....................\n",
      "[CV] ..... forest__n_estimators=5, pca__n_components=20, total=   0.0s\n",
      "[CV] forest__n_estimators=5, pca__n_components=20 ....................\n"
     ]
    },
    {
     "name": "stderr",
     "output_type": "stream",
     "text": [
      "[Parallel(n_jobs=1)]: Using backend SequentialBackend with 1 concurrent workers.\n",
      "/Users/mercuryliu/opt/anaconda3/lib/python3.8/site-packages/sklearn/pipeline.py:335: DataConversionWarning: A column-vector y was passed when a 1d array was expected. Please change the shape of y to (n_samples,), for example using ravel().\n",
      "  self._final_estimator.fit(Xt, y, **fit_params_last_step)\n",
      "[Parallel(n_jobs=1)]: Done   1 out of   1 | elapsed:    0.0s remaining:    0.0s\n",
      "/Users/mercuryliu/opt/anaconda3/lib/python3.8/site-packages/sklearn/pipeline.py:335: DataConversionWarning: A column-vector y was passed when a 1d array was expected. Please change the shape of y to (n_samples,), for example using ravel().\n",
      "  self._final_estimator.fit(Xt, y, **fit_params_last_step)\n",
      "/Users/mercuryliu/opt/anaconda3/lib/python3.8/site-packages/sklearn/pipeline.py:335: DataConversionWarning: A column-vector y was passed when a 1d array was expected. Please change the shape of y to (n_samples,), for example using ravel().\n",
      "  self._final_estimator.fit(Xt, y, **fit_params_last_step)\n",
      "/Users/mercuryliu/opt/anaconda3/lib/python3.8/site-packages/sklearn/pipeline.py:335: DataConversionWarning: A column-vector y was passed when a 1d array was expected. Please change the shape of y to (n_samples,), for example using ravel().\n",
      "  self._final_estimator.fit(Xt, y, **fit_params_last_step)\n",
      "/Users/mercuryliu/opt/anaconda3/lib/python3.8/site-packages/sklearn/pipeline.py:335: DataConversionWarning: A column-vector y was passed when a 1d array was expected. Please change the shape of y to (n_samples,), for example using ravel().\n",
      "  self._final_estimator.fit(Xt, y, **fit_params_last_step)\n",
      "/Users/mercuryliu/opt/anaconda3/lib/python3.8/site-packages/sklearn/pipeline.py:335: DataConversionWarning: A column-vector y was passed when a 1d array was expected. Please change the shape of y to (n_samples,), for example using ravel().\n",
      "  self._final_estimator.fit(Xt, y, **fit_params_last_step)\n",
      "/Users/mercuryliu/opt/anaconda3/lib/python3.8/site-packages/sklearn/pipeline.py:335: DataConversionWarning: A column-vector y was passed when a 1d array was expected. Please change the shape of y to (n_samples,), for example using ravel().\n",
      "  self._final_estimator.fit(Xt, y, **fit_params_last_step)\n",
      "/Users/mercuryliu/opt/anaconda3/lib/python3.8/site-packages/sklearn/pipeline.py:335: DataConversionWarning: A column-vector y was passed when a 1d array was expected. Please change the shape of y to (n_samples,), for example using ravel().\n",
      "  self._final_estimator.fit(Xt, y, **fit_params_last_step)\n",
      "/Users/mercuryliu/opt/anaconda3/lib/python3.8/site-packages/sklearn/pipeline.py:335: DataConversionWarning: A column-vector y was passed when a 1d array was expected. Please change the shape of y to (n_samples,), for example using ravel().\n",
      "  self._final_estimator.fit(Xt, y, **fit_params_last_step)\n",
      "/Users/mercuryliu/opt/anaconda3/lib/python3.8/site-packages/sklearn/pipeline.py:335: DataConversionWarning: A column-vector y was passed when a 1d array was expected. Please change the shape of y to (n_samples,), for example using ravel().\n",
      "  self._final_estimator.fit(Xt, y, **fit_params_last_step)\n",
      "/Users/mercuryliu/opt/anaconda3/lib/python3.8/site-packages/sklearn/pipeline.py:335: DataConversionWarning: A column-vector y was passed when a 1d array was expected. Please change the shape of y to (n_samples,), for example using ravel().\n",
      "  self._final_estimator.fit(Xt, y, **fit_params_last_step)\n",
      "/Users/mercuryliu/opt/anaconda3/lib/python3.8/site-packages/sklearn/pipeline.py:335: DataConversionWarning: A column-vector y was passed when a 1d array was expected. Please change the shape of y to (n_samples,), for example using ravel().\n",
      "  self._final_estimator.fit(Xt, y, **fit_params_last_step)\n",
      "/Users/mercuryliu/opt/anaconda3/lib/python3.8/site-packages/sklearn/pipeline.py:335: DataConversionWarning: A column-vector y was passed when a 1d array was expected. Please change the shape of y to (n_samples,), for example using ravel().\n",
      "  self._final_estimator.fit(Xt, y, **fit_params_last_step)\n",
      "/Users/mercuryliu/opt/anaconda3/lib/python3.8/site-packages/sklearn/pipeline.py:335: DataConversionWarning: A column-vector y was passed when a 1d array was expected. Please change the shape of y to (n_samples,), for example using ravel().\n",
      "  self._final_estimator.fit(Xt, y, **fit_params_last_step)\n",
      "/Users/mercuryliu/opt/anaconda3/lib/python3.8/site-packages/sklearn/pipeline.py:335: DataConversionWarning: A column-vector y was passed when a 1d array was expected. Please change the shape of y to (n_samples,), for example using ravel().\n",
      "  self._final_estimator.fit(Xt, y, **fit_params_last_step)\n"
     ]
    },
    {
     "name": "stdout",
     "output_type": "stream",
     "text": [
      "[CV] ..... forest__n_estimators=5, pca__n_components=20, total=   0.0s\n",
      "[CV] forest__n_estimators=10, pca__n_components=5 ....................\n",
      "[CV] ..... forest__n_estimators=10, pca__n_components=5, total=   0.0s\n",
      "[CV] forest__n_estimators=10, pca__n_components=5 ....................\n",
      "[CV] ..... forest__n_estimators=10, pca__n_components=5, total=   0.0s\n",
      "[CV] forest__n_estimators=10, pca__n_components=5 ....................\n",
      "[CV] ..... forest__n_estimators=10, pca__n_components=5, total=   0.0s\n",
      "[CV] forest__n_estimators=10, pca__n_components=5 ....................\n",
      "[CV] ..... forest__n_estimators=10, pca__n_components=5, total=   0.0s\n",
      "[CV] forest__n_estimators=10, pca__n_components=5 ....................\n",
      "[CV] ..... forest__n_estimators=10, pca__n_components=5, total=   0.0s\n",
      "[CV] forest__n_estimators=10, pca__n_components=10 ...................\n",
      "[CV] .... forest__n_estimators=10, pca__n_components=10, total=   0.0s\n",
      "[CV] forest__n_estimators=10, pca__n_components=10 ...................\n",
      "[CV] .... forest__n_estimators=10, pca__n_components=10, total=   0.0s\n",
      "[CV] forest__n_estimators=10, pca__n_components=10 ...................\n",
      "[CV] .... forest__n_estimators=10, pca__n_components=10, total=   0.0s\n",
      "[CV] forest__n_estimators=10, pca__n_components=10 ...................\n",
      "[CV] .... forest__n_estimators=10, pca__n_components=10, total=   0.0s\n",
      "[CV] forest__n_estimators=10, pca__n_components=10 ...................\n",
      "[CV] .... forest__n_estimators=10, pca__n_components=10, total=   0.0s\n",
      "[CV] forest__n_estimators=10, pca__n_components=20 ...................\n",
      "[CV] .... forest__n_estimators=10, pca__n_components=20, total=   0.0s\n",
      "[CV] forest__n_estimators=10, pca__n_components=20 ...................\n"
     ]
    },
    {
     "name": "stderr",
     "output_type": "stream",
     "text": [
      "/Users/mercuryliu/opt/anaconda3/lib/python3.8/site-packages/sklearn/pipeline.py:335: DataConversionWarning: A column-vector y was passed when a 1d array was expected. Please change the shape of y to (n_samples,), for example using ravel().\n",
      "  self._final_estimator.fit(Xt, y, **fit_params_last_step)\n",
      "/Users/mercuryliu/opt/anaconda3/lib/python3.8/site-packages/sklearn/pipeline.py:335: DataConversionWarning: A column-vector y was passed when a 1d array was expected. Please change the shape of y to (n_samples,), for example using ravel().\n",
      "  self._final_estimator.fit(Xt, y, **fit_params_last_step)\n",
      "/Users/mercuryliu/opt/anaconda3/lib/python3.8/site-packages/sklearn/pipeline.py:335: DataConversionWarning: A column-vector y was passed when a 1d array was expected. Please change the shape of y to (n_samples,), for example using ravel().\n",
      "  self._final_estimator.fit(Xt, y, **fit_params_last_step)\n",
      "/Users/mercuryliu/opt/anaconda3/lib/python3.8/site-packages/sklearn/pipeline.py:335: DataConversionWarning: A column-vector y was passed when a 1d array was expected. Please change the shape of y to (n_samples,), for example using ravel().\n",
      "  self._final_estimator.fit(Xt, y, **fit_params_last_step)\n",
      "/Users/mercuryliu/opt/anaconda3/lib/python3.8/site-packages/sklearn/pipeline.py:335: DataConversionWarning: A column-vector y was passed when a 1d array was expected. Please change the shape of y to (n_samples,), for example using ravel().\n",
      "  self._final_estimator.fit(Xt, y, **fit_params_last_step)\n",
      "/Users/mercuryliu/opt/anaconda3/lib/python3.8/site-packages/sklearn/pipeline.py:335: DataConversionWarning: A column-vector y was passed when a 1d array was expected. Please change the shape of y to (n_samples,), for example using ravel().\n",
      "  self._final_estimator.fit(Xt, y, **fit_params_last_step)\n",
      "/Users/mercuryliu/opt/anaconda3/lib/python3.8/site-packages/sklearn/pipeline.py:335: DataConversionWarning: A column-vector y was passed when a 1d array was expected. Please change the shape of y to (n_samples,), for example using ravel().\n",
      "  self._final_estimator.fit(Xt, y, **fit_params_last_step)\n",
      "/Users/mercuryliu/opt/anaconda3/lib/python3.8/site-packages/sklearn/pipeline.py:335: DataConversionWarning: A column-vector y was passed when a 1d array was expected. Please change the shape of y to (n_samples,), for example using ravel().\n",
      "  self._final_estimator.fit(Xt, y, **fit_params_last_step)\n",
      "/Users/mercuryliu/opt/anaconda3/lib/python3.8/site-packages/sklearn/pipeline.py:335: DataConversionWarning: A column-vector y was passed when a 1d array was expected. Please change the shape of y to (n_samples,), for example using ravel().\n",
      "  self._final_estimator.fit(Xt, y, **fit_params_last_step)\n",
      "/Users/mercuryliu/opt/anaconda3/lib/python3.8/site-packages/sklearn/pipeline.py:335: DataConversionWarning: A column-vector y was passed when a 1d array was expected. Please change the shape of y to (n_samples,), for example using ravel().\n",
      "  self._final_estimator.fit(Xt, y, **fit_params_last_step)\n",
      "/Users/mercuryliu/opt/anaconda3/lib/python3.8/site-packages/sklearn/pipeline.py:335: DataConversionWarning: A column-vector y was passed when a 1d array was expected. Please change the shape of y to (n_samples,), for example using ravel().\n",
      "  self._final_estimator.fit(Xt, y, **fit_params_last_step)\n",
      "/Users/mercuryliu/opt/anaconda3/lib/python3.8/site-packages/sklearn/pipeline.py:335: DataConversionWarning: A column-vector y was passed when a 1d array was expected. Please change the shape of y to (n_samples,), for example using ravel().\n",
      "  self._final_estimator.fit(Xt, y, **fit_params_last_step)\n",
      "/Users/mercuryliu/opt/anaconda3/lib/python3.8/site-packages/sklearn/pipeline.py:335: DataConversionWarning: A column-vector y was passed when a 1d array was expected. Please change the shape of y to (n_samples,), for example using ravel().\n",
      "  self._final_estimator.fit(Xt, y, **fit_params_last_step)\n",
      "/Users/mercuryliu/opt/anaconda3/lib/python3.8/site-packages/sklearn/pipeline.py:335: DataConversionWarning: A column-vector y was passed when a 1d array was expected. Please change the shape of y to (n_samples,), for example using ravel().\n",
      "  self._final_estimator.fit(Xt, y, **fit_params_last_step)\n",
      "/Users/mercuryliu/opt/anaconda3/lib/python3.8/site-packages/sklearn/pipeline.py:335: DataConversionWarning: A column-vector y was passed when a 1d array was expected. Please change the shape of y to (n_samples,), for example using ravel().\n",
      "  self._final_estimator.fit(Xt, y, **fit_params_last_step)\n",
      "/Users/mercuryliu/opt/anaconda3/lib/python3.8/site-packages/sklearn/pipeline.py:335: DataConversionWarning: A column-vector y was passed when a 1d array was expected. Please change the shape of y to (n_samples,), for example using ravel().\n",
      "  self._final_estimator.fit(Xt, y, **fit_params_last_step)\n",
      "/Users/mercuryliu/opt/anaconda3/lib/python3.8/site-packages/sklearn/pipeline.py:335: DataConversionWarning: A column-vector y was passed when a 1d array was expected. Please change the shape of y to (n_samples,), for example using ravel().\n",
      "  self._final_estimator.fit(Xt, y, **fit_params_last_step)\n",
      "/Users/mercuryliu/opt/anaconda3/lib/python3.8/site-packages/sklearn/pipeline.py:335: DataConversionWarning: A column-vector y was passed when a 1d array was expected. Please change the shape of y to (n_samples,), for example using ravel().\n",
      "  self._final_estimator.fit(Xt, y, **fit_params_last_step)\n"
     ]
    },
    {
     "name": "stdout",
     "output_type": "stream",
     "text": [
      "[CV] .... forest__n_estimators=10, pca__n_components=20, total=   0.0s\n",
      "[CV] forest__n_estimators=10, pca__n_components=20 ...................\n",
      "[CV] .... forest__n_estimators=10, pca__n_components=20, total=   0.0s\n",
      "[CV] forest__n_estimators=10, pca__n_components=20 ...................\n",
      "[CV] .... forest__n_estimators=10, pca__n_components=20, total=   0.0s\n",
      "[CV] forest__n_estimators=10, pca__n_components=20 ...................\n",
      "[CV] .... forest__n_estimators=10, pca__n_components=20, total=   0.0s\n",
      "[CV] forest__n_estimators=30, pca__n_components=5 ....................\n",
      "[CV] ..... forest__n_estimators=30, pca__n_components=5, total=   0.0s\n",
      "[CV] forest__n_estimators=30, pca__n_components=5 ....................\n",
      "[CV] ..... forest__n_estimators=30, pca__n_components=5, total=   0.0s\n",
      "[CV] forest__n_estimators=30, pca__n_components=5 ....................\n",
      "[CV] ..... forest__n_estimators=30, pca__n_components=5, total=   0.0s\n",
      "[CV] forest__n_estimators=30, pca__n_components=5 ....................\n"
     ]
    },
    {
     "name": "stderr",
     "output_type": "stream",
     "text": [
      "/Users/mercuryliu/opt/anaconda3/lib/python3.8/site-packages/sklearn/pipeline.py:335: DataConversionWarning: A column-vector y was passed when a 1d array was expected. Please change the shape of y to (n_samples,), for example using ravel().\n",
      "  self._final_estimator.fit(Xt, y, **fit_params_last_step)\n",
      "/Users/mercuryliu/opt/anaconda3/lib/python3.8/site-packages/sklearn/pipeline.py:335: DataConversionWarning: A column-vector y was passed when a 1d array was expected. Please change the shape of y to (n_samples,), for example using ravel().\n",
      "  self._final_estimator.fit(Xt, y, **fit_params_last_step)\n",
      "/Users/mercuryliu/opt/anaconda3/lib/python3.8/site-packages/sklearn/pipeline.py:335: DataConversionWarning: A column-vector y was passed when a 1d array was expected. Please change the shape of y to (n_samples,), for example using ravel().\n",
      "  self._final_estimator.fit(Xt, y, **fit_params_last_step)\n",
      "/Users/mercuryliu/opt/anaconda3/lib/python3.8/site-packages/sklearn/pipeline.py:335: DataConversionWarning: A column-vector y was passed when a 1d array was expected. Please change the shape of y to (n_samples,), for example using ravel().\n",
      "  self._final_estimator.fit(Xt, y, **fit_params_last_step)\n",
      "/Users/mercuryliu/opt/anaconda3/lib/python3.8/site-packages/sklearn/pipeline.py:335: DataConversionWarning: A column-vector y was passed when a 1d array was expected. Please change the shape of y to (n_samples,), for example using ravel().\n",
      "  self._final_estimator.fit(Xt, y, **fit_params_last_step)\n",
      "/Users/mercuryliu/opt/anaconda3/lib/python3.8/site-packages/sklearn/pipeline.py:335: DataConversionWarning: A column-vector y was passed when a 1d array was expected. Please change the shape of y to (n_samples,), for example using ravel().\n",
      "  self._final_estimator.fit(Xt, y, **fit_params_last_step)\n"
     ]
    },
    {
     "name": "stdout",
     "output_type": "stream",
     "text": [
      "[CV] ..... forest__n_estimators=30, pca__n_components=5, total=   0.0s\n",
      "[CV] forest__n_estimators=30, pca__n_components=5 ....................\n",
      "[CV] ..... forest__n_estimators=30, pca__n_components=5, total=   0.0s\n",
      "[CV] forest__n_estimators=30, pca__n_components=10 ...................\n",
      "[CV] .... forest__n_estimators=30, pca__n_components=10, total=   0.0s\n",
      "[CV] forest__n_estimators=30, pca__n_components=10 ...................\n",
      "[CV] .... forest__n_estimators=30, pca__n_components=10, total=   0.0s\n",
      "[CV] forest__n_estimators=30, pca__n_components=10 ...................\n",
      "[CV] .... forest__n_estimators=30, pca__n_components=10, total=   0.0s\n",
      "[CV] forest__n_estimators=30, pca__n_components=10 ...................\n",
      "[CV] .... forest__n_estimators=30, pca__n_components=10, total=   0.0s\n",
      "[CV] forest__n_estimators=30, pca__n_components=10 ...................\n",
      "[CV] .... forest__n_estimators=30, pca__n_components=10, total=   0.0s\n",
      "[CV] forest__n_estimators=30, pca__n_components=20 ...................\n",
      "[CV] .... forest__n_estimators=30, pca__n_components=20, total=   0.1s\n",
      "[CV] forest__n_estimators=30, pca__n_components=20 ...................\n",
      "[CV] .... forest__n_estimators=30, pca__n_components=20, total=   0.1s\n",
      "[CV] forest__n_estimators=30, pca__n_components=20 ...................\n"
     ]
    },
    {
     "name": "stderr",
     "output_type": "stream",
     "text": [
      "/Users/mercuryliu/opt/anaconda3/lib/python3.8/site-packages/sklearn/pipeline.py:335: DataConversionWarning: A column-vector y was passed when a 1d array was expected. Please change the shape of y to (n_samples,), for example using ravel().\n",
      "  self._final_estimator.fit(Xt, y, **fit_params_last_step)\n",
      "/Users/mercuryliu/opt/anaconda3/lib/python3.8/site-packages/sklearn/pipeline.py:335: DataConversionWarning: A column-vector y was passed when a 1d array was expected. Please change the shape of y to (n_samples,), for example using ravel().\n",
      "  self._final_estimator.fit(Xt, y, **fit_params_last_step)\n",
      "/Users/mercuryliu/opt/anaconda3/lib/python3.8/site-packages/sklearn/pipeline.py:335: DataConversionWarning: A column-vector y was passed when a 1d array was expected. Please change the shape of y to (n_samples,), for example using ravel().\n",
      "  self._final_estimator.fit(Xt, y, **fit_params_last_step)\n",
      "/Users/mercuryliu/opt/anaconda3/lib/python3.8/site-packages/sklearn/pipeline.py:335: DataConversionWarning: A column-vector y was passed when a 1d array was expected. Please change the shape of y to (n_samples,), for example using ravel().\n",
      "  self._final_estimator.fit(Xt, y, **fit_params_last_step)\n"
     ]
    },
    {
     "name": "stdout",
     "output_type": "stream",
     "text": [
      "[CV] .... forest__n_estimators=30, pca__n_components=20, total=   0.1s\n",
      "[CV] forest__n_estimators=30, pca__n_components=20 ...................\n",
      "[CV] .... forest__n_estimators=30, pca__n_components=20, total=   0.1s\n",
      "[CV] forest__n_estimators=30, pca__n_components=20 ...................\n",
      "[CV] .... forest__n_estimators=30, pca__n_components=20, total=   0.1s\n",
      "[CV] forest__n_estimators=50, pca__n_components=5 ....................\n",
      "[CV] ..... forest__n_estimators=50, pca__n_components=5, total=   0.1s\n",
      "[CV] forest__n_estimators=50, pca__n_components=5 ....................\n"
     ]
    },
    {
     "name": "stderr",
     "output_type": "stream",
     "text": [
      "/Users/mercuryliu/opt/anaconda3/lib/python3.8/site-packages/sklearn/pipeline.py:335: DataConversionWarning: A column-vector y was passed when a 1d array was expected. Please change the shape of y to (n_samples,), for example using ravel().\n",
      "  self._final_estimator.fit(Xt, y, **fit_params_last_step)\n",
      "/Users/mercuryliu/opt/anaconda3/lib/python3.8/site-packages/sklearn/pipeline.py:335: DataConversionWarning: A column-vector y was passed when a 1d array was expected. Please change the shape of y to (n_samples,), for example using ravel().\n",
      "  self._final_estimator.fit(Xt, y, **fit_params_last_step)\n",
      "/Users/mercuryliu/opt/anaconda3/lib/python3.8/site-packages/sklearn/pipeline.py:335: DataConversionWarning: A column-vector y was passed when a 1d array was expected. Please change the shape of y to (n_samples,), for example using ravel().\n",
      "  self._final_estimator.fit(Xt, y, **fit_params_last_step)\n",
      "/Users/mercuryliu/opt/anaconda3/lib/python3.8/site-packages/sklearn/pipeline.py:335: DataConversionWarning: A column-vector y was passed when a 1d array was expected. Please change the shape of y to (n_samples,), for example using ravel().\n",
      "  self._final_estimator.fit(Xt, y, **fit_params_last_step)\n"
     ]
    },
    {
     "name": "stdout",
     "output_type": "stream",
     "text": [
      "[CV] ..... forest__n_estimators=50, pca__n_components=5, total=   0.1s\n",
      "[CV] forest__n_estimators=50, pca__n_components=5 ....................\n",
      "[CV] ..... forest__n_estimators=50, pca__n_components=5, total=   0.1s\n",
      "[CV] forest__n_estimators=50, pca__n_components=5 ....................\n",
      "[CV] ..... forest__n_estimators=50, pca__n_components=5, total=   0.1s\n",
      "[CV] forest__n_estimators=50, pca__n_components=5 ....................\n",
      "[CV] ..... forest__n_estimators=50, pca__n_components=5, total=   0.1s\n",
      "[CV] forest__n_estimators=50, pca__n_components=10 ...................\n"
     ]
    },
    {
     "name": "stderr",
     "output_type": "stream",
     "text": [
      "/Users/mercuryliu/opt/anaconda3/lib/python3.8/site-packages/sklearn/pipeline.py:335: DataConversionWarning: A column-vector y was passed when a 1d array was expected. Please change the shape of y to (n_samples,), for example using ravel().\n",
      "  self._final_estimator.fit(Xt, y, **fit_params_last_step)\n",
      "/Users/mercuryliu/opt/anaconda3/lib/python3.8/site-packages/sklearn/pipeline.py:335: DataConversionWarning: A column-vector y was passed when a 1d array was expected. Please change the shape of y to (n_samples,), for example using ravel().\n",
      "  self._final_estimator.fit(Xt, y, **fit_params_last_step)\n",
      "/Users/mercuryliu/opt/anaconda3/lib/python3.8/site-packages/sklearn/pipeline.py:335: DataConversionWarning: A column-vector y was passed when a 1d array was expected. Please change the shape of y to (n_samples,), for example using ravel().\n",
      "  self._final_estimator.fit(Xt, y, **fit_params_last_step)\n",
      "/Users/mercuryliu/opt/anaconda3/lib/python3.8/site-packages/sklearn/pipeline.py:335: DataConversionWarning: A column-vector y was passed when a 1d array was expected. Please change the shape of y to (n_samples,), for example using ravel().\n",
      "  self._final_estimator.fit(Xt, y, **fit_params_last_step)\n"
     ]
    },
    {
     "name": "stdout",
     "output_type": "stream",
     "text": [
      "[CV] .... forest__n_estimators=50, pca__n_components=10, total=   0.1s\n",
      "[CV] forest__n_estimators=50, pca__n_components=10 ...................\n",
      "[CV] .... forest__n_estimators=50, pca__n_components=10, total=   0.1s\n",
      "[CV] forest__n_estimators=50, pca__n_components=10 ...................\n",
      "[CV] .... forest__n_estimators=50, pca__n_components=10, total=   0.1s\n",
      "[CV] forest__n_estimators=50, pca__n_components=10 ...................\n"
     ]
    },
    {
     "name": "stderr",
     "output_type": "stream",
     "text": [
      "/Users/mercuryliu/opt/anaconda3/lib/python3.8/site-packages/sklearn/pipeline.py:335: DataConversionWarning: A column-vector y was passed when a 1d array was expected. Please change the shape of y to (n_samples,), for example using ravel().\n",
      "  self._final_estimator.fit(Xt, y, **fit_params_last_step)\n",
      "/Users/mercuryliu/opt/anaconda3/lib/python3.8/site-packages/sklearn/pipeline.py:335: DataConversionWarning: A column-vector y was passed when a 1d array was expected. Please change the shape of y to (n_samples,), for example using ravel().\n",
      "  self._final_estimator.fit(Xt, y, **fit_params_last_step)\n",
      "/Users/mercuryliu/opt/anaconda3/lib/python3.8/site-packages/sklearn/pipeline.py:335: DataConversionWarning: A column-vector y was passed when a 1d array was expected. Please change the shape of y to (n_samples,), for example using ravel().\n",
      "  self._final_estimator.fit(Xt, y, **fit_params_last_step)\n"
     ]
    },
    {
     "name": "stdout",
     "output_type": "stream",
     "text": [
      "[CV] .... forest__n_estimators=50, pca__n_components=10, total=   0.1s\n",
      "[CV] forest__n_estimators=50, pca__n_components=10 ...................\n",
      "[CV] .... forest__n_estimators=50, pca__n_components=10, total=   0.1s\n",
      "[CV] forest__n_estimators=50, pca__n_components=20 ...................\n",
      "[CV] .... forest__n_estimators=50, pca__n_components=20, total=   0.1s\n",
      "[CV] forest__n_estimators=50, pca__n_components=20 ...................\n"
     ]
    },
    {
     "name": "stderr",
     "output_type": "stream",
     "text": [
      "/Users/mercuryliu/opt/anaconda3/lib/python3.8/site-packages/sklearn/pipeline.py:335: DataConversionWarning: A column-vector y was passed when a 1d array was expected. Please change the shape of y to (n_samples,), for example using ravel().\n",
      "  self._final_estimator.fit(Xt, y, **fit_params_last_step)\n",
      "/Users/mercuryliu/opt/anaconda3/lib/python3.8/site-packages/sklearn/pipeline.py:335: DataConversionWarning: A column-vector y was passed when a 1d array was expected. Please change the shape of y to (n_samples,), for example using ravel().\n",
      "  self._final_estimator.fit(Xt, y, **fit_params_last_step)\n",
      "/Users/mercuryliu/opt/anaconda3/lib/python3.8/site-packages/sklearn/pipeline.py:335: DataConversionWarning: A column-vector y was passed when a 1d array was expected. Please change the shape of y to (n_samples,), for example using ravel().\n",
      "  self._final_estimator.fit(Xt, y, **fit_params_last_step)\n"
     ]
    },
    {
     "name": "stdout",
     "output_type": "stream",
     "text": [
      "[CV] .... forest__n_estimators=50, pca__n_components=20, total=   0.1s\n",
      "[CV] forest__n_estimators=50, pca__n_components=20 ...................\n",
      "[CV] .... forest__n_estimators=50, pca__n_components=20, total=   0.1s\n",
      "[CV] forest__n_estimators=50, pca__n_components=20 ...................\n"
     ]
    },
    {
     "name": "stderr",
     "output_type": "stream",
     "text": [
      "/Users/mercuryliu/opt/anaconda3/lib/python3.8/site-packages/sklearn/pipeline.py:335: DataConversionWarning: A column-vector y was passed when a 1d array was expected. Please change the shape of y to (n_samples,), for example using ravel().\n",
      "  self._final_estimator.fit(Xt, y, **fit_params_last_step)\n",
      "/Users/mercuryliu/opt/anaconda3/lib/python3.8/site-packages/sklearn/pipeline.py:335: DataConversionWarning: A column-vector y was passed when a 1d array was expected. Please change the shape of y to (n_samples,), for example using ravel().\n",
      "  self._final_estimator.fit(Xt, y, **fit_params_last_step)\n"
     ]
    },
    {
     "name": "stdout",
     "output_type": "stream",
     "text": [
      "[CV] .... forest__n_estimators=50, pca__n_components=20, total=   0.1s\n",
      "[CV] forest__n_estimators=50, pca__n_components=20 ...................\n",
      "[CV] .... forest__n_estimators=50, pca__n_components=20, total=   0.1s\n",
      "The best parameters: {'forest__n_estimators': 30, 'pca__n_components': 10}\n"
     ]
    },
    {
     "name": "stderr",
     "output_type": "stream",
     "text": [
      "/Users/mercuryliu/opt/anaconda3/lib/python3.8/site-packages/sklearn/pipeline.py:335: DataConversionWarning: A column-vector y was passed when a 1d array was expected. Please change the shape of y to (n_samples,), for example using ravel().\n",
      "  self._final_estimator.fit(Xt, y, **fit_params_last_step)\n",
      "[Parallel(n_jobs=1)]: Done  60 out of  60 | elapsed:    2.3s finished\n",
      "/Users/mercuryliu/opt/anaconda3/lib/python3.8/site-packages/sklearn/pipeline.py:335: DataConversionWarning: A column-vector y was passed when a 1d array was expected. Please change the shape of y to (n_samples,), for example using ravel().\n",
      "  self._final_estimator.fit(Xt, y, **fit_params_last_step)\n"
     ]
    }
   ],
   "source": [
    "#gridsearch CV with 1% of the training data \n",
    "estimator.fit(X_cv1, y_cv1)\n",
    "print(\"The best parameters: {0}\".format(estimator.best_params_))\n"
   ]
  },
  {
   "cell_type": "code",
   "execution_count": 7,
   "metadata": {},
   "outputs": [
    {
     "name": "stdout",
     "output_type": "stream",
     "text": [
      "Fitting 5 folds for each of 12 candidates, totalling 60 fits\n",
      "[CV] forest__n_estimators=5, pca__n_components=5 .....................\n",
      "[CV] ...... forest__n_estimators=5, pca__n_components=5, total=   0.1s\n",
      "[CV] forest__n_estimators=5, pca__n_components=5 .....................\n"
     ]
    },
    {
     "name": "stderr",
     "output_type": "stream",
     "text": [
      "[Parallel(n_jobs=1)]: Using backend SequentialBackend with 1 concurrent workers.\n",
      "/Users/mercuryliu/opt/anaconda3/lib/python3.8/site-packages/sklearn/pipeline.py:335: DataConversionWarning: A column-vector y was passed when a 1d array was expected. Please change the shape of y to (n_samples,), for example using ravel().\n",
      "  self._final_estimator.fit(Xt, y, **fit_params_last_step)\n",
      "[Parallel(n_jobs=1)]: Done   1 out of   1 | elapsed:    0.1s remaining:    0.0s\n",
      "/Users/mercuryliu/opt/anaconda3/lib/python3.8/site-packages/sklearn/pipeline.py:335: DataConversionWarning: A column-vector y was passed when a 1d array was expected. Please change the shape of y to (n_samples,), for example using ravel().\n",
      "  self._final_estimator.fit(Xt, y, **fit_params_last_step)\n"
     ]
    },
    {
     "name": "stdout",
     "output_type": "stream",
     "text": [
      "[CV] ...... forest__n_estimators=5, pca__n_components=5, total=   0.1s\n",
      "[CV] forest__n_estimators=5, pca__n_components=5 .....................\n",
      "[CV] ...... forest__n_estimators=5, pca__n_components=5, total=   0.1s\n",
      "[CV] forest__n_estimators=5, pca__n_components=5 .....................\n"
     ]
    },
    {
     "name": "stderr",
     "output_type": "stream",
     "text": [
      "/Users/mercuryliu/opt/anaconda3/lib/python3.8/site-packages/sklearn/pipeline.py:335: DataConversionWarning: A column-vector y was passed when a 1d array was expected. Please change the shape of y to (n_samples,), for example using ravel().\n",
      "  self._final_estimator.fit(Xt, y, **fit_params_last_step)\n",
      "/Users/mercuryliu/opt/anaconda3/lib/python3.8/site-packages/sklearn/pipeline.py:335: DataConversionWarning: A column-vector y was passed when a 1d array was expected. Please change the shape of y to (n_samples,), for example using ravel().\n",
      "  self._final_estimator.fit(Xt, y, **fit_params_last_step)\n"
     ]
    },
    {
     "name": "stdout",
     "output_type": "stream",
     "text": [
      "[CV] ...... forest__n_estimators=5, pca__n_components=5, total=   0.1s\n",
      "[CV] forest__n_estimators=5, pca__n_components=5 .....................\n",
      "[CV] ...... forest__n_estimators=5, pca__n_components=5, total=   0.1s\n",
      "[CV] forest__n_estimators=5, pca__n_components=10 ....................\n"
     ]
    },
    {
     "name": "stderr",
     "output_type": "stream",
     "text": [
      "/Users/mercuryliu/opt/anaconda3/lib/python3.8/site-packages/sklearn/pipeline.py:335: DataConversionWarning: A column-vector y was passed when a 1d array was expected. Please change the shape of y to (n_samples,), for example using ravel().\n",
      "  self._final_estimator.fit(Xt, y, **fit_params_last_step)\n",
      "/Users/mercuryliu/opt/anaconda3/lib/python3.8/site-packages/sklearn/pipeline.py:335: DataConversionWarning: A column-vector y was passed when a 1d array was expected. Please change the shape of y to (n_samples,), for example using ravel().\n",
      "  self._final_estimator.fit(Xt, y, **fit_params_last_step)\n"
     ]
    },
    {
     "name": "stdout",
     "output_type": "stream",
     "text": [
      "[CV] ..... forest__n_estimators=5, pca__n_components=10, total=   0.1s\n",
      "[CV] forest__n_estimators=5, pca__n_components=10 ....................\n"
     ]
    },
    {
     "name": "stderr",
     "output_type": "stream",
     "text": [
      "/Users/mercuryliu/opt/anaconda3/lib/python3.8/site-packages/sklearn/pipeline.py:335: DataConversionWarning: A column-vector y was passed when a 1d array was expected. Please change the shape of y to (n_samples,), for example using ravel().\n",
      "  self._final_estimator.fit(Xt, y, **fit_params_last_step)\n"
     ]
    },
    {
     "name": "stdout",
     "output_type": "stream",
     "text": [
      "[CV] ..... forest__n_estimators=5, pca__n_components=10, total=   0.1s\n",
      "[CV] forest__n_estimators=5, pca__n_components=10 ....................\n",
      "[CV] ..... forest__n_estimators=5, pca__n_components=10, total=   0.1s\n",
      "[CV] forest__n_estimators=5, pca__n_components=10 ....................\n"
     ]
    },
    {
     "name": "stderr",
     "output_type": "stream",
     "text": [
      "/Users/mercuryliu/opt/anaconda3/lib/python3.8/site-packages/sklearn/pipeline.py:335: DataConversionWarning: A column-vector y was passed when a 1d array was expected. Please change the shape of y to (n_samples,), for example using ravel().\n",
      "  self._final_estimator.fit(Xt, y, **fit_params_last_step)\n",
      "/Users/mercuryliu/opt/anaconda3/lib/python3.8/site-packages/sklearn/pipeline.py:335: DataConversionWarning: A column-vector y was passed when a 1d array was expected. Please change the shape of y to (n_samples,), for example using ravel().\n",
      "  self._final_estimator.fit(Xt, y, **fit_params_last_step)\n"
     ]
    },
    {
     "name": "stdout",
     "output_type": "stream",
     "text": [
      "[CV] ..... forest__n_estimators=5, pca__n_components=10, total=   0.1s\n",
      "[CV] forest__n_estimators=5, pca__n_components=10 ....................\n",
      "[CV] ..... forest__n_estimators=5, pca__n_components=10, total=   0.1s\n",
      "[CV] forest__n_estimators=5, pca__n_components=20 ....................\n"
     ]
    },
    {
     "name": "stderr",
     "output_type": "stream",
     "text": [
      "/Users/mercuryliu/opt/anaconda3/lib/python3.8/site-packages/sklearn/pipeline.py:335: DataConversionWarning: A column-vector y was passed when a 1d array was expected. Please change the shape of y to (n_samples,), for example using ravel().\n",
      "  self._final_estimator.fit(Xt, y, **fit_params_last_step)\n",
      "/Users/mercuryliu/opt/anaconda3/lib/python3.8/site-packages/sklearn/pipeline.py:335: DataConversionWarning: A column-vector y was passed when a 1d array was expected. Please change the shape of y to (n_samples,), for example using ravel().\n",
      "  self._final_estimator.fit(Xt, y, **fit_params_last_step)\n"
     ]
    },
    {
     "name": "stdout",
     "output_type": "stream",
     "text": [
      "[CV] ..... forest__n_estimators=5, pca__n_components=20, total=   0.1s\n",
      "[CV] forest__n_estimators=5, pca__n_components=20 ....................\n"
     ]
    },
    {
     "name": "stderr",
     "output_type": "stream",
     "text": [
      "/Users/mercuryliu/opt/anaconda3/lib/python3.8/site-packages/sklearn/pipeline.py:335: DataConversionWarning: A column-vector y was passed when a 1d array was expected. Please change the shape of y to (n_samples,), for example using ravel().\n",
      "  self._final_estimator.fit(Xt, y, **fit_params_last_step)\n"
     ]
    },
    {
     "name": "stdout",
     "output_type": "stream",
     "text": [
      "[CV] ..... forest__n_estimators=5, pca__n_components=20, total=   0.1s\n",
      "[CV] forest__n_estimators=5, pca__n_components=20 ....................\n"
     ]
    },
    {
     "name": "stderr",
     "output_type": "stream",
     "text": [
      "/Users/mercuryliu/opt/anaconda3/lib/python3.8/site-packages/sklearn/pipeline.py:335: DataConversionWarning: A column-vector y was passed when a 1d array was expected. Please change the shape of y to (n_samples,), for example using ravel().\n",
      "  self._final_estimator.fit(Xt, y, **fit_params_last_step)\n"
     ]
    },
    {
     "name": "stdout",
     "output_type": "stream",
     "text": [
      "[CV] ..... forest__n_estimators=5, pca__n_components=20, total=   0.1s\n",
      "[CV] forest__n_estimators=5, pca__n_components=20 ....................\n",
      "[CV] ..... forest__n_estimators=5, pca__n_components=20, total=   0.1s\n",
      "[CV] forest__n_estimators=5, pca__n_components=20 ....................\n"
     ]
    },
    {
     "name": "stderr",
     "output_type": "stream",
     "text": [
      "/Users/mercuryliu/opt/anaconda3/lib/python3.8/site-packages/sklearn/pipeline.py:335: DataConversionWarning: A column-vector y was passed when a 1d array was expected. Please change the shape of y to (n_samples,), for example using ravel().\n",
      "  self._final_estimator.fit(Xt, y, **fit_params_last_step)\n",
      "/Users/mercuryliu/opt/anaconda3/lib/python3.8/site-packages/sklearn/pipeline.py:335: DataConversionWarning: A column-vector y was passed when a 1d array was expected. Please change the shape of y to (n_samples,), for example using ravel().\n",
      "  self._final_estimator.fit(Xt, y, **fit_params_last_step)\n"
     ]
    },
    {
     "name": "stdout",
     "output_type": "stream",
     "text": [
      "[CV] ..... forest__n_estimators=5, pca__n_components=20, total=   0.1s\n",
      "[CV] forest__n_estimators=10, pca__n_components=5 ....................\n",
      "[CV] ..... forest__n_estimators=10, pca__n_components=5, total=   0.1s\n",
      "[CV] forest__n_estimators=10, pca__n_components=5 ....................\n",
      "[CV] ..... forest__n_estimators=10, pca__n_components=5, total=   0.1s\n",
      "[CV] forest__n_estimators=10, pca__n_components=5 ....................\n"
     ]
    },
    {
     "name": "stderr",
     "output_type": "stream",
     "text": [
      "/Users/mercuryliu/opt/anaconda3/lib/python3.8/site-packages/sklearn/pipeline.py:335: DataConversionWarning: A column-vector y was passed when a 1d array was expected. Please change the shape of y to (n_samples,), for example using ravel().\n",
      "  self._final_estimator.fit(Xt, y, **fit_params_last_step)\n",
      "/Users/mercuryliu/opt/anaconda3/lib/python3.8/site-packages/sklearn/pipeline.py:335: DataConversionWarning: A column-vector y was passed when a 1d array was expected. Please change the shape of y to (n_samples,), for example using ravel().\n",
      "  self._final_estimator.fit(Xt, y, **fit_params_last_step)\n",
      "/Users/mercuryliu/opt/anaconda3/lib/python3.8/site-packages/sklearn/pipeline.py:335: DataConversionWarning: A column-vector y was passed when a 1d array was expected. Please change the shape of y to (n_samples,), for example using ravel().\n",
      "  self._final_estimator.fit(Xt, y, **fit_params_last_step)\n"
     ]
    },
    {
     "name": "stdout",
     "output_type": "stream",
     "text": [
      "[CV] ..... forest__n_estimators=10, pca__n_components=5, total=   0.1s\n",
      "[CV] forest__n_estimators=10, pca__n_components=5 ....................\n",
      "[CV] ..... forest__n_estimators=10, pca__n_components=5, total=   0.1s\n",
      "[CV] forest__n_estimators=10, pca__n_components=5 ....................\n",
      "[CV] ..... forest__n_estimators=10, pca__n_components=5, total=   0.1s\n",
      "[CV] forest__n_estimators=10, pca__n_components=10 ...................\n"
     ]
    },
    {
     "name": "stderr",
     "output_type": "stream",
     "text": [
      "/Users/mercuryliu/opt/anaconda3/lib/python3.8/site-packages/sklearn/pipeline.py:335: DataConversionWarning: A column-vector y was passed when a 1d array was expected. Please change the shape of y to (n_samples,), for example using ravel().\n",
      "  self._final_estimator.fit(Xt, y, **fit_params_last_step)\n",
      "/Users/mercuryliu/opt/anaconda3/lib/python3.8/site-packages/sklearn/pipeline.py:335: DataConversionWarning: A column-vector y was passed when a 1d array was expected. Please change the shape of y to (n_samples,), for example using ravel().\n",
      "  self._final_estimator.fit(Xt, y, **fit_params_last_step)\n",
      "/Users/mercuryliu/opt/anaconda3/lib/python3.8/site-packages/sklearn/pipeline.py:335: DataConversionWarning: A column-vector y was passed when a 1d array was expected. Please change the shape of y to (n_samples,), for example using ravel().\n",
      "  self._final_estimator.fit(Xt, y, **fit_params_last_step)\n"
     ]
    },
    {
     "name": "stdout",
     "output_type": "stream",
     "text": [
      "[CV] .... forest__n_estimators=10, pca__n_components=10, total=   0.1s\n",
      "[CV] forest__n_estimators=10, pca__n_components=10 ...................\n",
      "[CV] .... forest__n_estimators=10, pca__n_components=10, total=   0.1s\n",
      "[CV] forest__n_estimators=10, pca__n_components=10 ...................\n"
     ]
    },
    {
     "name": "stderr",
     "output_type": "stream",
     "text": [
      "/Users/mercuryliu/opt/anaconda3/lib/python3.8/site-packages/sklearn/pipeline.py:335: DataConversionWarning: A column-vector y was passed when a 1d array was expected. Please change the shape of y to (n_samples,), for example using ravel().\n",
      "  self._final_estimator.fit(Xt, y, **fit_params_last_step)\n",
      "/Users/mercuryliu/opt/anaconda3/lib/python3.8/site-packages/sklearn/pipeline.py:335: DataConversionWarning: A column-vector y was passed when a 1d array was expected. Please change the shape of y to (n_samples,), for example using ravel().\n",
      "  self._final_estimator.fit(Xt, y, **fit_params_last_step)\n"
     ]
    },
    {
     "name": "stdout",
     "output_type": "stream",
     "text": [
      "[CV] .... forest__n_estimators=10, pca__n_components=10, total=   0.1s\n",
      "[CV] forest__n_estimators=10, pca__n_components=10 ...................\n",
      "[CV] .... forest__n_estimators=10, pca__n_components=10, total=   0.1s\n",
      "[CV] forest__n_estimators=10, pca__n_components=10 ...................\n"
     ]
    },
    {
     "name": "stderr",
     "output_type": "stream",
     "text": [
      "/Users/mercuryliu/opt/anaconda3/lib/python3.8/site-packages/sklearn/pipeline.py:335: DataConversionWarning: A column-vector y was passed when a 1d array was expected. Please change the shape of y to (n_samples,), for example using ravel().\n",
      "  self._final_estimator.fit(Xt, y, **fit_params_last_step)\n",
      "/Users/mercuryliu/opt/anaconda3/lib/python3.8/site-packages/sklearn/pipeline.py:335: DataConversionWarning: A column-vector y was passed when a 1d array was expected. Please change the shape of y to (n_samples,), for example using ravel().\n",
      "  self._final_estimator.fit(Xt, y, **fit_params_last_step)\n"
     ]
    },
    {
     "name": "stdout",
     "output_type": "stream",
     "text": [
      "[CV] .... forest__n_estimators=10, pca__n_components=10, total=   0.1s\n",
      "[CV] forest__n_estimators=10, pca__n_components=20 ...................\n"
     ]
    },
    {
     "name": "stderr",
     "output_type": "stream",
     "text": [
      "/Users/mercuryliu/opt/anaconda3/lib/python3.8/site-packages/sklearn/pipeline.py:335: DataConversionWarning: A column-vector y was passed when a 1d array was expected. Please change the shape of y to (n_samples,), for example using ravel().\n",
      "  self._final_estimator.fit(Xt, y, **fit_params_last_step)\n"
     ]
    },
    {
     "name": "stdout",
     "output_type": "stream",
     "text": [
      "[CV] .... forest__n_estimators=10, pca__n_components=20, total=   0.2s\n",
      "[CV] forest__n_estimators=10, pca__n_components=20 ...................\n"
     ]
    },
    {
     "name": "stderr",
     "output_type": "stream",
     "text": [
      "/Users/mercuryliu/opt/anaconda3/lib/python3.8/site-packages/sklearn/pipeline.py:335: DataConversionWarning: A column-vector y was passed when a 1d array was expected. Please change the shape of y to (n_samples,), for example using ravel().\n",
      "  self._final_estimator.fit(Xt, y, **fit_params_last_step)\n"
     ]
    },
    {
     "name": "stdout",
     "output_type": "stream",
     "text": [
      "[CV] .... forest__n_estimators=10, pca__n_components=20, total=   0.3s\n",
      "[CV] forest__n_estimators=10, pca__n_components=20 ...................\n",
      "[CV] .... forest__n_estimators=10, pca__n_components=20, total=   0.2s\n",
      "[CV] forest__n_estimators=10, pca__n_components=20 ...................\n"
     ]
    },
    {
     "name": "stderr",
     "output_type": "stream",
     "text": [
      "/Users/mercuryliu/opt/anaconda3/lib/python3.8/site-packages/sklearn/pipeline.py:335: DataConversionWarning: A column-vector y was passed when a 1d array was expected. Please change the shape of y to (n_samples,), for example using ravel().\n",
      "  self._final_estimator.fit(Xt, y, **fit_params_last_step)\n",
      "/Users/mercuryliu/opt/anaconda3/lib/python3.8/site-packages/sklearn/pipeline.py:335: DataConversionWarning: A column-vector y was passed when a 1d array was expected. Please change the shape of y to (n_samples,), for example using ravel().\n",
      "  self._final_estimator.fit(Xt, y, **fit_params_last_step)\n"
     ]
    },
    {
     "name": "stdout",
     "output_type": "stream",
     "text": [
      "[CV] .... forest__n_estimators=10, pca__n_components=20, total=   0.2s\n",
      "[CV] forest__n_estimators=10, pca__n_components=20 ...................\n"
     ]
    },
    {
     "name": "stderr",
     "output_type": "stream",
     "text": [
      "/Users/mercuryliu/opt/anaconda3/lib/python3.8/site-packages/sklearn/pipeline.py:335: DataConversionWarning: A column-vector y was passed when a 1d array was expected. Please change the shape of y to (n_samples,), for example using ravel().\n",
      "  self._final_estimator.fit(Xt, y, **fit_params_last_step)\n"
     ]
    },
    {
     "name": "stdout",
     "output_type": "stream",
     "text": [
      "[CV] .... forest__n_estimators=10, pca__n_components=20, total=   0.3s\n",
      "[CV] forest__n_estimators=30, pca__n_components=5 ....................\n"
     ]
    },
    {
     "name": "stderr",
     "output_type": "stream",
     "text": [
      "/Users/mercuryliu/opt/anaconda3/lib/python3.8/site-packages/sklearn/pipeline.py:335: DataConversionWarning: A column-vector y was passed when a 1d array was expected. Please change the shape of y to (n_samples,), for example using ravel().\n",
      "  self._final_estimator.fit(Xt, y, **fit_params_last_step)\n"
     ]
    },
    {
     "name": "stdout",
     "output_type": "stream",
     "text": [
      "[CV] ..... forest__n_estimators=30, pca__n_components=5, total=   0.3s\n",
      "[CV] forest__n_estimators=30, pca__n_components=5 ....................\n"
     ]
    },
    {
     "name": "stderr",
     "output_type": "stream",
     "text": [
      "/Users/mercuryliu/opt/anaconda3/lib/python3.8/site-packages/sklearn/pipeline.py:335: DataConversionWarning: A column-vector y was passed when a 1d array was expected. Please change the shape of y to (n_samples,), for example using ravel().\n",
      "  self._final_estimator.fit(Xt, y, **fit_params_last_step)\n"
     ]
    },
    {
     "name": "stdout",
     "output_type": "stream",
     "text": [
      "[CV] ..... forest__n_estimators=30, pca__n_components=5, total=   0.2s\n",
      "[CV] forest__n_estimators=30, pca__n_components=5 ....................\n"
     ]
    },
    {
     "name": "stderr",
     "output_type": "stream",
     "text": [
      "/Users/mercuryliu/opt/anaconda3/lib/python3.8/site-packages/sklearn/pipeline.py:335: DataConversionWarning: A column-vector y was passed when a 1d array was expected. Please change the shape of y to (n_samples,), for example using ravel().\n",
      "  self._final_estimator.fit(Xt, y, **fit_params_last_step)\n"
     ]
    },
    {
     "name": "stdout",
     "output_type": "stream",
     "text": [
      "[CV] ..... forest__n_estimators=30, pca__n_components=5, total=   0.2s\n",
      "[CV] forest__n_estimators=30, pca__n_components=5 ....................\n"
     ]
    },
    {
     "name": "stderr",
     "output_type": "stream",
     "text": [
      "/Users/mercuryliu/opt/anaconda3/lib/python3.8/site-packages/sklearn/pipeline.py:335: DataConversionWarning: A column-vector y was passed when a 1d array was expected. Please change the shape of y to (n_samples,), for example using ravel().\n",
      "  self._final_estimator.fit(Xt, y, **fit_params_last_step)\n"
     ]
    },
    {
     "name": "stdout",
     "output_type": "stream",
     "text": [
      "[CV] ..... forest__n_estimators=30, pca__n_components=5, total=   0.3s\n",
      "[CV] forest__n_estimators=30, pca__n_components=5 ....................\n"
     ]
    },
    {
     "name": "stderr",
     "output_type": "stream",
     "text": [
      "/Users/mercuryliu/opt/anaconda3/lib/python3.8/site-packages/sklearn/pipeline.py:335: DataConversionWarning: A column-vector y was passed when a 1d array was expected. Please change the shape of y to (n_samples,), for example using ravel().\n",
      "  self._final_estimator.fit(Xt, y, **fit_params_last_step)\n"
     ]
    },
    {
     "name": "stdout",
     "output_type": "stream",
     "text": [
      "[CV] ..... forest__n_estimators=30, pca__n_components=5, total=   0.3s\n",
      "[CV] forest__n_estimators=30, pca__n_components=10 ...................\n"
     ]
    },
    {
     "name": "stderr",
     "output_type": "stream",
     "text": [
      "/Users/mercuryliu/opt/anaconda3/lib/python3.8/site-packages/sklearn/pipeline.py:335: DataConversionWarning: A column-vector y was passed when a 1d array was expected. Please change the shape of y to (n_samples,), for example using ravel().\n",
      "  self._final_estimator.fit(Xt, y, **fit_params_last_step)\n"
     ]
    },
    {
     "name": "stdout",
     "output_type": "stream",
     "text": [
      "[CV] .... forest__n_estimators=30, pca__n_components=10, total=   0.4s\n",
      "[CV] forest__n_estimators=30, pca__n_components=10 ...................\n"
     ]
    },
    {
     "name": "stderr",
     "output_type": "stream",
     "text": [
      "/Users/mercuryliu/opt/anaconda3/lib/python3.8/site-packages/sklearn/pipeline.py:335: DataConversionWarning: A column-vector y was passed when a 1d array was expected. Please change the shape of y to (n_samples,), for example using ravel().\n",
      "  self._final_estimator.fit(Xt, y, **fit_params_last_step)\n"
     ]
    },
    {
     "name": "stdout",
     "output_type": "stream",
     "text": [
      "[CV] .... forest__n_estimators=30, pca__n_components=10, total=   0.4s\n",
      "[CV] forest__n_estimators=30, pca__n_components=10 ...................\n"
     ]
    },
    {
     "name": "stderr",
     "output_type": "stream",
     "text": [
      "/Users/mercuryliu/opt/anaconda3/lib/python3.8/site-packages/sklearn/pipeline.py:335: DataConversionWarning: A column-vector y was passed when a 1d array was expected. Please change the shape of y to (n_samples,), for example using ravel().\n",
      "  self._final_estimator.fit(Xt, y, **fit_params_last_step)\n"
     ]
    },
    {
     "name": "stdout",
     "output_type": "stream",
     "text": [
      "[CV] .... forest__n_estimators=30, pca__n_components=10, total=   0.3s\n",
      "[CV] forest__n_estimators=30, pca__n_components=10 ...................\n"
     ]
    },
    {
     "name": "stderr",
     "output_type": "stream",
     "text": [
      "/Users/mercuryliu/opt/anaconda3/lib/python3.8/site-packages/sklearn/pipeline.py:335: DataConversionWarning: A column-vector y was passed when a 1d array was expected. Please change the shape of y to (n_samples,), for example using ravel().\n",
      "  self._final_estimator.fit(Xt, y, **fit_params_last_step)\n"
     ]
    },
    {
     "name": "stdout",
     "output_type": "stream",
     "text": [
      "[CV] .... forest__n_estimators=30, pca__n_components=10, total=   0.3s\n",
      "[CV] forest__n_estimators=30, pca__n_components=10 ...................\n"
     ]
    },
    {
     "name": "stderr",
     "output_type": "stream",
     "text": [
      "/Users/mercuryliu/opt/anaconda3/lib/python3.8/site-packages/sklearn/pipeline.py:335: DataConversionWarning: A column-vector y was passed when a 1d array was expected. Please change the shape of y to (n_samples,), for example using ravel().\n",
      "  self._final_estimator.fit(Xt, y, **fit_params_last_step)\n"
     ]
    },
    {
     "name": "stdout",
     "output_type": "stream",
     "text": [
      "[CV] .... forest__n_estimators=30, pca__n_components=10, total=   0.4s\n",
      "[CV] forest__n_estimators=30, pca__n_components=20 ...................\n"
     ]
    },
    {
     "name": "stderr",
     "output_type": "stream",
     "text": [
      "/Users/mercuryliu/opt/anaconda3/lib/python3.8/site-packages/sklearn/pipeline.py:335: DataConversionWarning: A column-vector y was passed when a 1d array was expected. Please change the shape of y to (n_samples,), for example using ravel().\n",
      "  self._final_estimator.fit(Xt, y, **fit_params_last_step)\n"
     ]
    },
    {
     "name": "stdout",
     "output_type": "stream",
     "text": [
      "[CV] .... forest__n_estimators=30, pca__n_components=20, total=   0.6s\n",
      "[CV] forest__n_estimators=30, pca__n_components=20 ...................\n"
     ]
    },
    {
     "name": "stderr",
     "output_type": "stream",
     "text": [
      "/Users/mercuryliu/opt/anaconda3/lib/python3.8/site-packages/sklearn/pipeline.py:335: DataConversionWarning: A column-vector y was passed when a 1d array was expected. Please change the shape of y to (n_samples,), for example using ravel().\n",
      "  self._final_estimator.fit(Xt, y, **fit_params_last_step)\n"
     ]
    },
    {
     "name": "stdout",
     "output_type": "stream",
     "text": [
      "[CV] .... forest__n_estimators=30, pca__n_components=20, total=   0.7s\n",
      "[CV] forest__n_estimators=30, pca__n_components=20 ...................\n"
     ]
    },
    {
     "name": "stderr",
     "output_type": "stream",
     "text": [
      "/Users/mercuryliu/opt/anaconda3/lib/python3.8/site-packages/sklearn/pipeline.py:335: DataConversionWarning: A column-vector y was passed when a 1d array was expected. Please change the shape of y to (n_samples,), for example using ravel().\n",
      "  self._final_estimator.fit(Xt, y, **fit_params_last_step)\n"
     ]
    },
    {
     "name": "stdout",
     "output_type": "stream",
     "text": [
      "[CV] .... forest__n_estimators=30, pca__n_components=20, total=   0.5s\n",
      "[CV] forest__n_estimators=30, pca__n_components=20 ...................\n"
     ]
    },
    {
     "name": "stderr",
     "output_type": "stream",
     "text": [
      "/Users/mercuryliu/opt/anaconda3/lib/python3.8/site-packages/sklearn/pipeline.py:335: DataConversionWarning: A column-vector y was passed when a 1d array was expected. Please change the shape of y to (n_samples,), for example using ravel().\n",
      "  self._final_estimator.fit(Xt, y, **fit_params_last_step)\n"
     ]
    },
    {
     "name": "stdout",
     "output_type": "stream",
     "text": [
      "[CV] .... forest__n_estimators=30, pca__n_components=20, total=   0.5s\n",
      "[CV] forest__n_estimators=30, pca__n_components=20 ...................\n"
     ]
    },
    {
     "name": "stderr",
     "output_type": "stream",
     "text": [
      "/Users/mercuryliu/opt/anaconda3/lib/python3.8/site-packages/sklearn/pipeline.py:335: DataConversionWarning: A column-vector y was passed when a 1d array was expected. Please change the shape of y to (n_samples,), for example using ravel().\n",
      "  self._final_estimator.fit(Xt, y, **fit_params_last_step)\n"
     ]
    },
    {
     "name": "stdout",
     "output_type": "stream",
     "text": [
      "[CV] .... forest__n_estimators=30, pca__n_components=20, total=   0.7s\n",
      "[CV] forest__n_estimators=50, pca__n_components=5 ....................\n"
     ]
    },
    {
     "name": "stderr",
     "output_type": "stream",
     "text": [
      "/Users/mercuryliu/opt/anaconda3/lib/python3.8/site-packages/sklearn/pipeline.py:335: DataConversionWarning: A column-vector y was passed when a 1d array was expected. Please change the shape of y to (n_samples,), for example using ravel().\n",
      "  self._final_estimator.fit(Xt, y, **fit_params_last_step)\n"
     ]
    },
    {
     "name": "stdout",
     "output_type": "stream",
     "text": [
      "[CV] ..... forest__n_estimators=50, pca__n_components=5, total=   0.4s\n",
      "[CV] forest__n_estimators=50, pca__n_components=5 ....................\n"
     ]
    },
    {
     "name": "stderr",
     "output_type": "stream",
     "text": [
      "/Users/mercuryliu/opt/anaconda3/lib/python3.8/site-packages/sklearn/pipeline.py:335: DataConversionWarning: A column-vector y was passed when a 1d array was expected. Please change the shape of y to (n_samples,), for example using ravel().\n",
      "  self._final_estimator.fit(Xt, y, **fit_params_last_step)\n"
     ]
    },
    {
     "name": "stdout",
     "output_type": "stream",
     "text": [
      "[CV] ..... forest__n_estimators=50, pca__n_components=5, total=   0.4s\n",
      "[CV] forest__n_estimators=50, pca__n_components=5 ....................\n"
     ]
    },
    {
     "name": "stderr",
     "output_type": "stream",
     "text": [
      "/Users/mercuryliu/opt/anaconda3/lib/python3.8/site-packages/sklearn/pipeline.py:335: DataConversionWarning: A column-vector y was passed when a 1d array was expected. Please change the shape of y to (n_samples,), for example using ravel().\n",
      "  self._final_estimator.fit(Xt, y, **fit_params_last_step)\n"
     ]
    },
    {
     "name": "stdout",
     "output_type": "stream",
     "text": [
      "[CV] ..... forest__n_estimators=50, pca__n_components=5, total=   0.4s\n",
      "[CV] forest__n_estimators=50, pca__n_components=5 ....................\n"
     ]
    },
    {
     "name": "stderr",
     "output_type": "stream",
     "text": [
      "/Users/mercuryliu/opt/anaconda3/lib/python3.8/site-packages/sklearn/pipeline.py:335: DataConversionWarning: A column-vector y was passed when a 1d array was expected. Please change the shape of y to (n_samples,), for example using ravel().\n",
      "  self._final_estimator.fit(Xt, y, **fit_params_last_step)\n"
     ]
    },
    {
     "name": "stdout",
     "output_type": "stream",
     "text": [
      "[CV] ..... forest__n_estimators=50, pca__n_components=5, total=   0.4s\n",
      "[CV] forest__n_estimators=50, pca__n_components=5 ....................\n"
     ]
    },
    {
     "name": "stderr",
     "output_type": "stream",
     "text": [
      "/Users/mercuryliu/opt/anaconda3/lib/python3.8/site-packages/sklearn/pipeline.py:335: DataConversionWarning: A column-vector y was passed when a 1d array was expected. Please change the shape of y to (n_samples,), for example using ravel().\n",
      "  self._final_estimator.fit(Xt, y, **fit_params_last_step)\n"
     ]
    },
    {
     "name": "stdout",
     "output_type": "stream",
     "text": [
      "[CV] ..... forest__n_estimators=50, pca__n_components=5, total=   0.4s\n",
      "[CV] forest__n_estimators=50, pca__n_components=10 ...................\n"
     ]
    },
    {
     "name": "stderr",
     "output_type": "stream",
     "text": [
      "/Users/mercuryliu/opt/anaconda3/lib/python3.8/site-packages/sklearn/pipeline.py:335: DataConversionWarning: A column-vector y was passed when a 1d array was expected. Please change the shape of y to (n_samples,), for example using ravel().\n",
      "  self._final_estimator.fit(Xt, y, **fit_params_last_step)\n"
     ]
    },
    {
     "name": "stdout",
     "output_type": "stream",
     "text": [
      "[CV] .... forest__n_estimators=50, pca__n_components=10, total=   0.6s\n",
      "[CV] forest__n_estimators=50, pca__n_components=10 ...................\n"
     ]
    },
    {
     "name": "stderr",
     "output_type": "stream",
     "text": [
      "/Users/mercuryliu/opt/anaconda3/lib/python3.8/site-packages/sklearn/pipeline.py:335: DataConversionWarning: A column-vector y was passed when a 1d array was expected. Please change the shape of y to (n_samples,), for example using ravel().\n",
      "  self._final_estimator.fit(Xt, y, **fit_params_last_step)\n"
     ]
    },
    {
     "name": "stdout",
     "output_type": "stream",
     "text": [
      "[CV] .... forest__n_estimators=50, pca__n_components=10, total=   0.6s\n",
      "[CV] forest__n_estimators=50, pca__n_components=10 ...................\n"
     ]
    },
    {
     "name": "stderr",
     "output_type": "stream",
     "text": [
      "/Users/mercuryliu/opt/anaconda3/lib/python3.8/site-packages/sklearn/pipeline.py:335: DataConversionWarning: A column-vector y was passed when a 1d array was expected. Please change the shape of y to (n_samples,), for example using ravel().\n",
      "  self._final_estimator.fit(Xt, y, **fit_params_last_step)\n"
     ]
    },
    {
     "name": "stdout",
     "output_type": "stream",
     "text": [
      "[CV] .... forest__n_estimators=50, pca__n_components=10, total=   0.5s\n",
      "[CV] forest__n_estimators=50, pca__n_components=10 ...................\n"
     ]
    },
    {
     "name": "stderr",
     "output_type": "stream",
     "text": [
      "/Users/mercuryliu/opt/anaconda3/lib/python3.8/site-packages/sklearn/pipeline.py:335: DataConversionWarning: A column-vector y was passed when a 1d array was expected. Please change the shape of y to (n_samples,), for example using ravel().\n",
      "  self._final_estimator.fit(Xt, y, **fit_params_last_step)\n"
     ]
    },
    {
     "name": "stdout",
     "output_type": "stream",
     "text": [
      "[CV] .... forest__n_estimators=50, pca__n_components=10, total=   0.4s\n",
      "[CV] forest__n_estimators=50, pca__n_components=10 ...................\n"
     ]
    },
    {
     "name": "stderr",
     "output_type": "stream",
     "text": [
      "/Users/mercuryliu/opt/anaconda3/lib/python3.8/site-packages/sklearn/pipeline.py:335: DataConversionWarning: A column-vector y was passed when a 1d array was expected. Please change the shape of y to (n_samples,), for example using ravel().\n",
      "  self._final_estimator.fit(Xt, y, **fit_params_last_step)\n"
     ]
    },
    {
     "name": "stdout",
     "output_type": "stream",
     "text": [
      "[CV] .... forest__n_estimators=50, pca__n_components=10, total=   0.6s\n",
      "[CV] forest__n_estimators=50, pca__n_components=20 ...................\n"
     ]
    },
    {
     "name": "stderr",
     "output_type": "stream",
     "text": [
      "/Users/mercuryliu/opt/anaconda3/lib/python3.8/site-packages/sklearn/pipeline.py:335: DataConversionWarning: A column-vector y was passed when a 1d array was expected. Please change the shape of y to (n_samples,), for example using ravel().\n",
      "  self._final_estimator.fit(Xt, y, **fit_params_last_step)\n"
     ]
    },
    {
     "name": "stdout",
     "output_type": "stream",
     "text": [
      "[CV] .... forest__n_estimators=50, pca__n_components=20, total=   1.1s\n",
      "[CV] forest__n_estimators=50, pca__n_components=20 ...................\n"
     ]
    },
    {
     "name": "stderr",
     "output_type": "stream",
     "text": [
      "/Users/mercuryliu/opt/anaconda3/lib/python3.8/site-packages/sklearn/pipeline.py:335: DataConversionWarning: A column-vector y was passed when a 1d array was expected. Please change the shape of y to (n_samples,), for example using ravel().\n",
      "  self._final_estimator.fit(Xt, y, **fit_params_last_step)\n"
     ]
    },
    {
     "name": "stdout",
     "output_type": "stream",
     "text": [
      "[CV] .... forest__n_estimators=50, pca__n_components=20, total=   1.3s\n",
      "[CV] forest__n_estimators=50, pca__n_components=20 ...................\n"
     ]
    },
    {
     "name": "stderr",
     "output_type": "stream",
     "text": [
      "/Users/mercuryliu/opt/anaconda3/lib/python3.8/site-packages/sklearn/pipeline.py:335: DataConversionWarning: A column-vector y was passed when a 1d array was expected. Please change the shape of y to (n_samples,), for example using ravel().\n",
      "  self._final_estimator.fit(Xt, y, **fit_params_last_step)\n"
     ]
    },
    {
     "name": "stdout",
     "output_type": "stream",
     "text": [
      "[CV] .... forest__n_estimators=50, pca__n_components=20, total=   0.9s\n",
      "[CV] forest__n_estimators=50, pca__n_components=20 ...................\n"
     ]
    },
    {
     "name": "stderr",
     "output_type": "stream",
     "text": [
      "/Users/mercuryliu/opt/anaconda3/lib/python3.8/site-packages/sklearn/pipeline.py:335: DataConversionWarning: A column-vector y was passed when a 1d array was expected. Please change the shape of y to (n_samples,), for example using ravel().\n",
      "  self._final_estimator.fit(Xt, y, **fit_params_last_step)\n"
     ]
    },
    {
     "name": "stdout",
     "output_type": "stream",
     "text": [
      "[CV] .... forest__n_estimators=50, pca__n_components=20, total=   0.8s\n",
      "[CV] forest__n_estimators=50, pca__n_components=20 ...................\n"
     ]
    },
    {
     "name": "stderr",
     "output_type": "stream",
     "text": [
      "/Users/mercuryliu/opt/anaconda3/lib/python3.8/site-packages/sklearn/pipeline.py:335: DataConversionWarning: A column-vector y was passed when a 1d array was expected. Please change the shape of y to (n_samples,), for example using ravel().\n",
      "  self._final_estimator.fit(Xt, y, **fit_params_last_step)\n"
     ]
    },
    {
     "name": "stdout",
     "output_type": "stream",
     "text": [
      "[CV] .... forest__n_estimators=50, pca__n_components=20, total=   1.2s\n"
     ]
    },
    {
     "name": "stderr",
     "output_type": "stream",
     "text": [
      "[Parallel(n_jobs=1)]: Done  60 out of  60 | elapsed:   19.7s finished\n",
      "/Users/mercuryliu/opt/anaconda3/lib/python3.8/site-packages/sklearn/pipeline.py:335: DataConversionWarning: A column-vector y was passed when a 1d array was expected. Please change the shape of y to (n_samples,), for example using ravel().\n",
      "  self._final_estimator.fit(Xt, y, **fit_params_last_step)\n"
     ]
    },
    {
     "name": "stdout",
     "output_type": "stream",
     "text": [
      "The best parameters: {'forest__n_estimators': 50, 'pca__n_components': 20}\n"
     ]
    }
   ],
   "source": [
    "#gridsearch CV with 10% of the training data\n",
    "estimator.fit(X_cv3, y_cv3)\n",
    "print(\"The best parameters: {0}\".format(estimator.best_params_))\n"
   ]
  },
  {
   "cell_type": "code",
   "execution_count": 8,
   "metadata": {},
   "outputs": [],
   "source": [
    "#actually, selecting different prooportions of data for gridsearch CV gives different results\n",
    "#I will arbitrarily choose the one that uses 10% of the training data \n",
    "pca = PCA(n_components=20)\n",
    "X_pca = pca.fit_transform(X)"
   ]
  },
  {
   "cell_type": "markdown",
   "metadata": {},
   "source": [
    "### Test Train Data Split "
   ]
  },
  {
   "cell_type": "code",
   "execution_count": 9,
   "metadata": {},
   "outputs": [],
   "source": [
    "#dataset with PCA on X\n",
    "X_train, X_test, y_train, y_test = train_test_split(X_pca, y_log, test_size=0.3, random_state=42)\n",
    "\n",
    "#dataset without PCA on X\n",
    "X_train1, X_test1, y_train1, y_test1 = train_test_split(X, y_log, test_size=0.3, random_state=42)"
   ]
  },
  {
   "cell_type": "code",
   "execution_count": 10,
   "metadata": {
    "scrolled": true
   },
   "outputs": [],
   "source": [
    "#remeber to reshape y to 1d array, otherwise warning message would be raised\n",
    "y_train = y_train.to_numpy().reshape(44301,)\n",
    "y_test = y_test.to_numpy().reshape(len(y_test),)\n",
    "\n",
    "y_train1 = y_train1.to_numpy().reshape(44301,)\n",
    "y_test1 = y_test1.to_numpy().reshape(len(y_test1),)"
   ]
  },
  {
   "cell_type": "markdown",
   "metadata": {},
   "source": [
    "### Gradient Boosting with Sklearn"
   ]
  },
  {
   "cell_type": "code",
   "execution_count": 11,
   "metadata": {},
   "outputs": [
    {
     "data": {
      "text/plain": [
       "GradientBoostingRegressor(criterion='mse', learning_rate=0.01, n_estimators=30,\n",
       "                          random_state=42)"
      ]
     },
     "execution_count": 11,
     "metadata": {},
     "output_type": "execute_result"
    }
   ],
   "source": [
    "#gb model with data(w PCA), this is a basic model for further parameter tuning\n",
    "prmt = {\n",
    "    \"loss\": 'ls',\n",
    "    \"learning_rate\": 0.01,\n",
    "    \"criterion\": 'mse',\n",
    "    \"n_estimators\": 30,\n",
    "    \"random_state\": 42\n",
    "}\n",
    "gbr = GradientBoostingRegressor()\n",
    "gbr.set_params(**prmt)\n",
    "gbr.fit(X_train, y_train)\n"
   ]
  },
  {
   "cell_type": "code",
   "execution_count": 12,
   "metadata": {},
   "outputs": [
    {
     "name": "stdout",
     "output_type": "stream",
     "text": [
      "The mean square error(MSE) of the model trained with data after PCA is 3.3919863137708237.\n"
     ]
    }
   ],
   "source": [
    "g_prediction = gbr.predict(X_test)\n",
    "g_error = mean_squared_error(y_test, g_prediction)\n",
    "print('The mean square error(MSE) of the model trained with data after PCA is {}.'.format(g_error))"
   ]
  },
  {
   "cell_type": "code",
   "execution_count": 13,
   "metadata": {},
   "outputs": [
    {
     "data": {
      "text/plain": [
       "GradientBoostingRegressor(criterion='mse', learning_rate=0.01, n_estimators=30,\n",
       "                          random_state=42)"
      ]
     },
     "execution_count": 13,
     "metadata": {},
     "output_type": "execute_result"
    }
   ],
   "source": [
    "#gb model with data(w/o PCA)\n",
    "prmt1 = {\n",
    "    \"loss\": 'ls',\n",
    "    \"learning_rate\": 0.01,\n",
    "    \"criterion\": 'mse',\n",
    "    \"n_estimators\": 30,\n",
    "    \"random_state\": 42  \n",
    "}\n",
    "gbr1 = GradientBoostingRegressor()\n",
    "gbr1.set_params(**prmt1) #at first I did not know to add \"**\", then a key error was raised\n",
    "\n",
    "gbr1.fit(X_train1, y_train1)\n"
   ]
  },
  {
   "cell_type": "code",
   "execution_count": 14,
   "metadata": {},
   "outputs": [
    {
     "name": "stdout",
     "output_type": "stream",
     "text": [
      "The mean square error(MSE) of the model trained with data w/o PCA is 3.3802661177874063.\n"
     ]
    }
   ],
   "source": [
    "g_prediction1 = gbr1.predict(X_test1)\n",
    "g_error1 = mean_squared_error(y_test1, g_prediction1)\n",
    "print('The mean square error(MSE) of the model trained with data w/o PCA is {}.'.format(g_error1))"
   ]
  },
  {
   "cell_type": "code",
   "execution_count": 15,
   "metadata": {},
   "outputs": [
    {
     "name": "stdout",
     "output_type": "stream",
     "text": [
      "The model trained with data w/o PCA is better. But why?\n"
     ]
    }
   ],
   "source": [
    "if g_error > g_error1:\n",
    "    print(\"The model trained with data w/o PCA is better. But why?\")\n",
    "else:\n",
    "    print(\"The model trained with data PCA is better.\")"
   ]
  },
  {
   "cell_type": "markdown",
   "metadata": {},
   "source": [
    "## Model Tuning & Evaluation\n",
    "#Since in the basic model, the performance of the model using data without PCA is better\n",
    "#In the following model tuning process, all the data are without PCA\n",
    "#parameters to tune are based on: https://www.analyticsvidhya.com/blog/2016/02/complete-guide-parameter-tuning-gradient-boosting-gbm-python/"
   ]
  },
  {
   "cell_type": "code",
   "execution_count": 16,
   "metadata": {},
   "outputs": [
    {
     "data": {
      "image/png": "[encoded data removed]",
      "text/plain": [
       "<Figure size 432x288 with 1 Axes>"
      ]
     },
     "metadata": {
      "needs_background": "light"
     },
     "output_type": "display_data"
    }
   ],
   "source": [
    "#step1: find the optimal amount of boosting stages, a.k.a. n_estimators \n",
    "#still use MSE as the criterion\n",
    "#running time: 10 min or so\n",
    "mse_train = []\n",
    "mse_test = []\n",
    "n_est = list(range(5, 400, 10))\n",
    "cv_est = []\n",
    "\n",
    "for i in n_est:\n",
    "    model = GradientBoostingRegressor(\\\n",
    "        n_estimators = i,\\\n",
    "        loss='ls', \\\n",
    "        learning_rate=0.05,\\\n",
    "        criterion='mse', \\\n",
    "        max_features='sqrt', \\\n",
    "        random_state= 42)\n",
    "    \n",
    "    #part1: no cv\n",
    "    model.fit(X_train1, y_train1) #fit model\n",
    "    #calculate training error\n",
    "    pred_train = model.predict(X_train1) \n",
    "    train_e = mean_squared_error(y_train1, pred_train) \n",
    "    mse_train.append(train_e)\n",
    "    #calculate testing error\n",
    "    pred_test = model.predict(X_test1) \n",
    "    test_e = mean_squared_error(y_test1, pred_test) \n",
    "    mse_test.append(test_e)\n",
    "    \n",
    "    #part2: same model & parameters, but do 3-fold cv on the data, get average MSE\n",
    "    score = np.mean(cross_val_score(model, X_train1, y_train1, \\\n",
    "                                    cv=3, scoring ='neg_mean_squared_error'))\n",
    "    cv_est.append(-score) #results all the scoring methods are non-negative numbers, so add\"-\" sign here\n",
    "\n",
    "#plot three types of errors\n",
    "plt.plot(n_est, mse_test, color='lightpink')\n",
    "plt.plot(n_est, mse_train, color='slategrey')\n",
    "plt.plot(n_est, cv_est, color='powderblue')\n",
    "\n",
    "plt.xlabel('No. of estimators')\n",
    "plt.legend(labels=['testing error', 'training error', 'average cross-validation error'])\n",
    "plt.show()\n",
    "#cv error is the highest bc cv fold is small (3-fold), left large chunk of data thus learning less\n",
    "#but since the dataset is quite large, higher folds would be expensive computaitonally\n",
    "#MSE stablizes after n_estimators > 250 "
   ]
  },
  {
   "cell_type": "code",
   "execution_count": 17,
   "metadata": {},
   "outputs": [
    {
     "data": {
      "image/png": "[encoded data removed]",
      "text/plain": [
       "<Figure size 432x288 with 1 Axes>"
      ]
     },
     "metadata": {
      "needs_background": "light"
     },
     "output_type": "display_data"
    }
   ],
   "source": [
    "#step2: find the optimal tree depth\n",
    "mse_tree_depth_train = []\n",
    "mse_tree_depth_test = []\n",
    "\n",
    "depth = list(range(5, 160, 10))\n",
    "cv_depth = []\n",
    "\n",
    "for i in depth:\n",
    "    model = GradientBoostingRegressor(max_depth = i, \\\n",
    "                                      n_estimators= 250, loss='ls',\\\n",
    "                                      learning_rate=0.05, criterion='mse', \\\n",
    "                                      max_features='sqrt', random_state=42)\n",
    "    #part1: no cv\n",
    "    model.fit(X_train1, y_train1)\n",
    "    #calculate training error\n",
    "    pred_train = model.predict(X_train1)\n",
    "    train_e = mean_squared_error(y_train1, pred_train)\n",
    "    mse_tree_depth_train.append(train_e)\n",
    "    \n",
    "    #calculate testing error\n",
    "    pred_test = model.predict(X_test1)\n",
    "    test_e = mean_squared_error(y_test1, pred_test)\n",
    "    mse_tree_depth_test.append(test_e)\n",
    "\n",
    "    #part2: 3-fold cv \n",
    "    score = np.mean(cross_val_score(model, X_train1, y_train1, cv=3, \\\n",
    "                                    scoring ='neg_mean_squared_error'))\n",
    "    cv_depth.append(-score)\n",
    "\n",
    "plt.plot(depth, mse_tree_depth_test, color='lightpink')\n",
    "plt.plot(depth, mse_tree_depth_train, color='slategrey')\n",
    "plt.plot(depth, cv_depth, color='powderblue')\n",
    "\n",
    "plt.xlabel('Tree Depth')\n",
    "plt.legend(labels=['testing error', 'training error', 'average cross-validation error'])\n",
    "plt.show()\n",
    "#MSE is the lowest when tree_depth = 5"
   ]
  },
  {
   "cell_type": "code",
   "execution_count": 18,
   "metadata": {},
   "outputs": [
    {
     "data": {
      "image/png": "[encoded data removed]",
      "text/plain": [
       "<Figure size 432x288 with 1 Axes>"
      ]
     },
     "metadata": {
      "needs_background": "light"
     },
     "output_type": "display_data"
    }
   ],
   "source": [
    "#step 3: find the optimal minimum amount of samples per leaf\n",
    "\n",
    "mse_lf_train = []\n",
    "mse_lf_test = []\n",
    "\n",
    "min_sp = list(range(5, 150, 20))\n",
    "cv_lf = []\n",
    "\n",
    "for i in min_sp:\n",
    "    model = GradientBoostingRegressor(min_samples_leaf= i, max_depth = 5, \\\n",
    "                                      n_estimators= 250, loss='ls',\\\n",
    "                                      learning_rate=0.05, criterion='mse', \\\n",
    "                                      max_features='sqrt', random_state=42)\n",
    "    #part1: no cv\n",
    "    model.fit(X_train1, y_train1) #fit model\n",
    "    #calculate training error\n",
    "    pred_train = model.predict(X_train1) \n",
    "    train_e = mean_squared_error(y_train1, pred_train) \n",
    "    mse_lf_train.append(train_e)\n",
    "    #calculate testing error\n",
    "    pred_test = model.predict(X_test1) \n",
    "    test_e = mean_squared_error(y_test1, pred_test) \n",
    "    mse_lf_test.append(test_e)\n",
    "    \n",
    "    #part2: 3-fold cv \n",
    "    score = np.mean(cross_val_score(model, X_train1, y_train1, cv=3, \\\n",
    "                                    scoring ='neg_mean_squared_error'))\n",
    "    cv_lf.append(-score)\n",
    "\n",
    "plt.plot(min_sp, mse_lf_test, color='lightpink')\n",
    "plt.plot(min_sp, mse_lf_train, color='slategrey')\n",
    "plt.plot(min_sp, cv_lf, color='powderblue')\n",
    "\n",
    "plt.xlabel('Minimum Amount of Samples per leaf')\n",
    "plt.legend(labels=['testing error', 'training error', 'average cross-validation error'])\n",
    "plt.show()\n",
    "\n",
    "#testing and training error stablize after min_sample_split > 60\n",
    "#try min_samples_leaf=50"
   ]
  },
  {
   "cell_type": "code",
   "execution_count": 19,
   "metadata": {},
   "outputs": [
    {
     "data": {
      "image/png": "[encoded data removed]",
      "text/plain": [
       "<Figure size 432x288 with 1 Axes>"
      ]
     },
     "metadata": {
      "needs_background": "light"
     },
     "output_type": "display_data"
    }
   ],
   "source": [
    "#step 4: find the optimal learning rate \n",
    "#if it learning rate is too small\n",
    "#it will be computaitonally expensive given the size of the dataset\n",
    "\n",
    "rate_train = []\n",
    "rate_test = []\n",
    "learning_rate = [0.0001, 0.001, 0.01, 0.05, 0.1, 0.2, 0.3]\n",
    "cv_rate = []\n",
    "\n",
    "for i in learning_rate:\n",
    "    model = GradientBoostingRegressor(learning_rate=i,\\\n",
    "                                      min_samples_leaf= 60, max_depth = 5, \\\n",
    "                                      n_estimators= 250, loss='ls',\\\n",
    "                                      criterion='mse', max_features='sqrt', random_state=42)\n",
    "    #part1: no cv\n",
    "    model.fit(X_train1, y_train1) #fit model\n",
    "    #calculate training error\n",
    "    pred_train = model.predict(X_train1) \n",
    "    train_e = mean_squared_error(y_train1, pred_train) \n",
    "    rate_train.append(train_e)\n",
    "    #calculate testing error\n",
    "    pred_test = model.predict(X_test1) \n",
    "    test_e = mean_squared_error(y_test1, pred_test) \n",
    "    rate_test.append(test_e)\n",
    "    \n",
    "    #part2: 3-fold cv \n",
    "    score = np.mean(cross_val_score(model, X_train1, y_train1, cv=3, \\\n",
    "                                    scoring ='neg_mean_squared_error'))\n",
    "    cv_rate.append(-score)\n",
    "\n",
    "plt.plot(learning_rate, rate_test, color='lightpink')\n",
    "plt.plot(learning_rate, rate_train, color='slategrey')\n",
    "plt.plot(learning_rate, cv_rate, color='powderblue')\n",
    "\n",
    "plt.xlabel('Learning Rate')\n",
    "plt.legend(labels=['testing error', 'training error', 'average cross-validation error'])\n",
    "plt.show()"
   ]
  },
  {
   "cell_type": "code",
   "execution_count": 20,
   "metadata": {},
   "outputs": [],
   "source": [
    "#current model, after model tuning\n",
    "m10 = GradientBoostingRegressor(min_samples_leaf= 60, max_depth = 5, \\\n",
    "                                      n_estimators= 250, loss='ls',\\\n",
    "                                      learning_rate=0.05, criterion='mse', \\\n",
    "                                      max_features='sqrt', random_state=42)\n",
    "m10.fit(X_train1, y_train1)\n",
    "pred10 = m10.predict(X_test1)\n",
    "error10 = mean_squared_error(y_test1, pred10)\n"
   ]
  },
  {
   "cell_type": "code",
   "execution_count": 21,
   "metadata": {},
   "outputs": [
    {
     "data": {
      "image/png": "[encoded data removed]",
      "text/plain": [
       "<Figure size 432x288 with 1 Axes>"
      ]
     },
     "metadata": {
      "needs_background": "light"
     },
     "output_type": "display_data"
    }
   ],
   "source": [
    "#compare basic model(w pca, w/o pca, final model)\n",
    "e_combo = [g_error, g_error1, error10]\n",
    "name = ['basic model w pca', 'basic model w/o pca', 'final model']\n",
    "c = ['lightsteelblue', 'paleturquoise', 'lemonchiffon']\n",
    "plt.bar(name, e_combo, color = c)\n",
    "plt.show()"
   ]
  },
  {
   "cell_type": "code",
   "execution_count": null,
   "metadata": {},
   "outputs": [],
   "source": []
  },
  {
   "cell_type": "code",
   "execution_count": null,
   "metadata": {},
   "outputs": [],
   "source": []
  },
  {
   "cell_type": "code",
   "execution_count": null,
   "metadata": {},
   "outputs": [],
   "source": []
  },
  {
   "cell_type": "code",
   "execution_count": null,
   "metadata": {},
   "outputs": [],
   "source": []
  },
  {
   "cell_type": "code",
   "execution_count": null,
   "metadata": {},
   "outputs": [],
   "source": []
  }
 ],
 "metadata": {
  "kernelspec": {
   "display_name": "Python 3",
   "language": "python",
   "name": "python3"
  },
  "language_info": {
   "codemirror_mode": {
    "name": "ipython",
    "version": 3
   },
   "file_extension": ".py",
   "mimetype": "text/x-python",
   "name": "python",
   "nbconvert_exporter": "python",
   "pygments_lexer": "ipython3",
   "version": "3.8.5"
  }
 },
 "nbformat": 4,
 "nbformat_minor": 4
}
